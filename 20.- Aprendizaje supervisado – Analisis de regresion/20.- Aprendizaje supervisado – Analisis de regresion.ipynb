{
 "cells": [
  {
   "cell_type": "markdown",
   "metadata": {},
   "source": [
    "# Actividad 20: Aprendizaje Supervisado – Análisis de Regresión\n"
   ]
  },
  {
   "cell_type": "markdown",
   "metadata": {},
   "source": [
    "## Tarea"
   ]
  },
  {
   "cell_type": "markdown",
   "metadata": {},
   "source": [
    "### Generar datos"
   ]
  },
  {
   "cell_type": "markdown",
   "metadata": {},
   "source": [
    "El siguiente código genera los datos sintéticos usados en el ejercicio"
   ]
  },
  {
   "cell_type": "code",
   "execution_count": 4,
   "metadata": {},
   "outputs": [],
   "source": [
    "import pandas as pd\n",
    "import numpy as np\n",
    "\n",
    "# Crear los datos de marketing\n",
    "np.random.seed(0)\n",
    "\n",
    "n_observaciones = 100\n",
    "\n",
    "gasto_tv = np.random.uniform(1000, 5000, n_observaciones)\n",
    "gasto_radio = np.random.uniform(500, 2000, n_observaciones)\n",
    "gasto_digital = np.random.uniform(200, 1500, n_observaciones)\n",
    "\n",
    "ventas = 10 + (0.5 * gasto_tv) + (0.3 * gasto_radio) + (0.2 * \n",
    "gasto_digital) + np.random.normal(0, 500, n_observaciones)\n",
    "\n",
    "# Crear el DataFrame de marketing\n",
    "marketing = pd.DataFrame({\n",
    "\t'Gasto_TV': gasto_tv,\n",
    "\t'Gasto_Radio': gasto_radio,\n",
    "\t'Gasto_Digital': gasto_digital,\n",
    "\t'Ventas': ventas\n",
    "\t})\n",
    "\n",
    "# Guardar los datos en un archivo CSV\n",
    "marketing.to_csv('datos_marketing.csv', index=False)\n"
   ]
  },
  {
   "cell_type": "markdown",
   "metadata": {},
   "source": [
    "### Ejercicio"
   ]
  },
  {
   "cell_type": "markdown",
   "metadata": {},
   "source": [
    "Eres un analista de datos en una empresa de marketing y se te ha proporcionado un conjunto de datos que contiene información sobre el rendimiento de campañas publicitarias en diferentes canales. Tu objetivo es desarrollar modelos de regresión multivariada para predecir las ventas mensuales en función de las variables independientes, como el gasto publicitario en televisión, radio y medios digitales. Debes analizar las diferencias entre los modelos de regresión lineal y polinomial, y ofrecer conclusiones basadas en los resultados obtenidos."
   ]
  },
  {
   "cell_type": "markdown",
   "metadata": {},
   "source": [
    "### Instrucciones"
   ]
  },
  {
   "cell_type": "markdown",
   "metadata": {},
   "source": [
    "- Cargar los datos desde un archivo CSV llamado “datos_marketing.csv” y almacenarlos en un DataFrame llamado marketing\n",
    "- Realizar una exploración inicial de los datos para entender su estructura y características. Identificar las columnas relevantes que puedan influir en las ventas mensuales.\n",
    "- Preparar los datos para el modelado. Esto puede incluir la selección de características relevantes, el manejo de valores faltantes, la codificación de variables categóricas y la normalización de los datos si es necesario.\n",
    "- Dividir los datos en un conjunto de entrenamiento y un conjunto de prueba (em una proporción de 70 % para entrenamiento y 30 % para pruebas).\n",
    "- Utilizar la biblioteca scikit-learn para entrenar un modelo de regresión lineal multivariada utilizando el conjunto de entrenamiento. Evaluar el rendimiento del modelo utilizando métricas de evaluación, como el error cuadrático medio (MSE) y el coeficiente de determinación (R²), en el conjunto de prueba.\n",
    "- Utilizar la biblioteca scikit-learn para entrenar un modelo de regresión polinomial multivariada utilizando el conjunto de entrenamiento. Evaluar el rendimiento del modelo utilizando las mismas métricas de evaluación en el conjunto de prueba.\n",
    "- Comparar y analizar los resultados de los modelos de regresión lineal y polinomial multivariada. Utiliza las siguientes preguntas como guía para llegar a tus conclusiones:\n",
    "  - ¿Cuál modelo tiene un mejor rendimiento en términos de MSE y R² en el conjunto de prueba?\n",
    "  - ¿Cómo se comparan los resultados de los modelos lineal y polinomial en la capacidad de ajuste?\n",
    "  - ¿Qué tipo de relación observas entre las variables independientes y las ventas mensuales?\n",
    "  - ¿Cuáles variables tienen una mayor influencia en las ventas mensuales?\n",
    "  - ¿Cuál es el grado del polinomio óptimo para el modelo polinomial?\n",
    "- Realizar visualizaciones de los resultados obtenidos para cada modelo utilizando gráficos de dispersión (scatter plots) que muestren las ventas mensuales reales y las predichas por los modelos.\n",
    "- Ofrecer conclusiones basadas en los análisis y resultados obtenidos.\n",
    "\n",
    "Sugerencia: Utilizar las funcionalidades de la biblioteca scikit"
   ]
  },
  {
   "cell_type": "markdown",
   "metadata": {},
   "source": [
    "### Solución"
   ]
  },
  {
   "cell_type": "markdown",
   "metadata": {},
   "source": [
    "#### Importar las librerías de uso"
   ]
  },
  {
   "cell_type": "code",
   "execution_count": 5,
   "metadata": {},
   "outputs": [],
   "source": [
    "import pandas as pd\n",
    "import numpy as np\n",
    "import matplotlib.pyplot as plt\n",
    "from sklearn.model_selection import train_test_split\n",
    "from sklearn.linear_model import LinearRegression\n",
    "from sklearn.preprocessing import PolynomialFeatures\n",
    "from sklearn.metrics import mean_squared_error, r2_score"
   ]
  },
  {
   "cell_type": "markdown",
   "metadata": {},
   "source": [
    "#### Cargar los datos desde un archivo CSV"
   ]
  },
  {
   "cell_type": "code",
   "execution_count": 6,
   "metadata": {},
   "outputs": [],
   "source": [
    "# Paso 1: Cargar los datos desde el archivo CSV\n",
    "marketing = pd.read_csv(\"datos_marketing.csv\")"
   ]
  },
  {
   "cell_type": "markdown",
   "metadata": {},
   "source": [
    "#### Análisis exploratorio de datos"
   ]
  },
  {
   "cell_type": "markdown",
   "metadata": {},
   "source": [
    "Los datos cargados deben analizarse para comprender su naturaleza. Los pasos más elementales para este fin se describen en la siguiente celda."
   ]
  },
  {
   "cell_type": "code",
   "execution_count": 7,
   "metadata": {},
   "outputs": [
    {
     "name": "stdout",
     "output_type": "stream",
     "text": [
      "      Gasto_TV  Gasto_Radio  Gasto_Digital       Ventas\n",
      "0  3195.254016  1516.724805     605.334647  2261.964648\n",
      "1  3860.757465   905.011960    1105.246535  2549.022146\n",
      "2  3411.053504  1602.791033     691.077391  2035.921506\n",
      "3  3179.532732  1943.282818     433.484781  2150.487303\n",
      "4  2694.619197   873.129715     232.082347   953.634528\n",
      "<class 'pandas.core.frame.DataFrame'>\n",
      "RangeIndex: 100 entries, 0 to 99\n",
      "Data columns (total 4 columns):\n",
      " #   Column         Non-Null Count  Dtype  \n",
      "---  ------         --------------  -----  \n",
      " 0   Gasto_TV       100 non-null    float64\n",
      " 1   Gasto_Radio    100 non-null    float64\n",
      " 2   Gasto_Digital  100 non-null    float64\n",
      " 3   Ventas         100 non-null    float64\n",
      "dtypes: float64(4)\n",
      "memory usage: 3.3 KB\n",
      "None\n",
      "          Gasto_TV  Gasto_Radio  Gasto_Digital       Ventas\n",
      "count   100.000000   100.000000     100.000000   100.000000\n",
      "mean   2891.175358  1292.122634     862.521579  1949.573421\n",
      "std    1159.016061   417.154481     394.160745   683.051287\n",
      "min    1018.781905   517.571126     217.207915   453.576401\n",
      "25%    1823.212630   943.395672     510.111089  1390.400638\n",
      "50%    2869.923949  1362.861937     855.661726  2030.527730\n",
      "75%    3737.933017  1595.035144    1224.889310  2312.270885\n",
      "max    4953.495352  1998.270510    1487.440632  3723.302172\n"
     ]
    }
   ],
   "source": [
    "print(marketing.head())\n",
    "print(marketing.info())\n",
    "print(marketing.describe())"
   ]
  },
  {
   "cell_type": "markdown",
   "metadata": {},
   "source": [
    "#### Preparación de datos"
   ]
  },
  {
   "cell_type": "markdown",
   "metadata": {},
   "source": [
    "Paso 3: Preparación de los datos\n",
    "\n",
    "Aquí deberías realizar pasos como la selección de características, manejo de valores faltantes, etc."
   ]
  },
  {
   "cell_type": "markdown",
   "metadata": {},
   "source": [
    "#### Segmentación de datos"
   ]
  },
  {
   "cell_type": "markdown",
   "metadata": {},
   "source": [
    "Ya que los datos se encuentran en un estado adecuado para su procesamiento, se deben crear los conjuntos de entrenamiento y de validación."
   ]
  },
  {
   "cell_type": "code",
   "execution_count": 8,
   "metadata": {},
   "outputs": [],
   "source": [
    "# Paso 4: División de los datos en conjunto de entrenamiento y prueba\n",
    "X = marketing.drop(\"Ventas\", axis=1)\n",
    "y = marketing[\"Ventas\"]\n",
    "X_train, X_test, y_train, y_test = train_test_split(X, y, test_size=0.3, random_state=42)"
   ]
  },
  {
   "cell_type": "markdown",
   "metadata": {},
   "source": [
    "#### Regresión"
   ]
  },
  {
   "cell_type": "markdown",
   "metadata": {},
   "source": [
    "La regresión lineal es un método estadístico que se utiliza para modelar la relación entre una variable dependiente y una o más variables independientes. Su objetivo principal es encontrar la \"línea recta\" que mejor se ajusta a los datos para predecir o estimar los valores de la variable dependiente en función de los valores de las variables independientes. En otras palabras, la regresión lineal busca establecer una relación lineal entre las variables involucradas.\n",
    "\n",
    "En el contexto de la regresión lineal simple (una variable independiente), la ecuación de la línea recta se representa como:\n",
    "\n",
    "$$y = mx + b$$\n",
    "\n",
    "Donde:\n",
    "\n",
    "- `y` es la variable dependiente que queremos predecir.\n",
    "- `x` es la variable independiente.\n",
    "- `m` es la pendiente de la línea, que representa el cambio en y por unidad de cambio en `x`.\n",
    "- `b` es la intersección en el eje y, que indica el valor de y cuando $$x$$ es igual a cero.\n",
    "- \n",
    "En el caso de la regresión lineal múltiple (más de una variable independiente), la ecuación se extiende a:\n",
    "\n",
    "$$y = b_0 + b_1x_1 + b_2x_2 + ... + b_px_p$$\n",
    "\n",
    "Donde:\n",
    "\n",
    "- `y` es la variable dependiente.\n",
    "- `x_1, x_2, ..., x_p` son las variables independientes.\n",
    "- `b_0, b_1, b_2, ..., b_p` son los coeficientes de regresión, que representan cómo cada variable independiente afecta a `y`.\n",
    "\n",
    "El proceso de ajustar la línea recta (o hiperplano en casos de regresión lineal múltiple) implica encontrar los coeficientes que minimizan la suma de los errores cuadrados entre las predicciones de la línea y los valores reales observados en los datos.\n",
    "\n",
    "La regresión lineal es una herramienta fundamental en estadísticas y análisis de datos, y se utiliza en diversas disciplinas, como economía, ciencias sociales, ciencias naturales y más, para modelar y predecir relaciones entre variables.\n",
    "\n",
    "Lo anterior se puede codificar como:"
   ]
  },
  {
   "cell_type": "markdown",
   "metadata": {},
   "source": [
    "##### Regresión Lineal"
   ]
  },
  {
   "cell_type": "code",
   "execution_count": 9,
   "metadata": {},
   "outputs": [
    {
     "name": "stdout",
     "output_type": "stream",
     "text": [
      "MSE: 240257.02921829966, R²: 0.45085885766263223\n",
      "\n"
     ]
    }
   ],
   "source": [
    "# Paso 5: Modelo de Regresión Lineal\n",
    "linear_model = LinearRegression()\n",
    "linear_model.fit(X_train, y_train)\n",
    "y_pred_linear = linear_model.predict(X_test)\n",
    "mse_linear = mean_squared_error(y_test, y_pred_linear)\n",
    "r2_linear = r2_score(y_test, y_pred_linear)\n",
    "print(f\"MSE: {mse_linear}, R²: {r2_linear}\")\n",
    "print()"
   ]
  },
  {
   "cell_type": "markdown",
   "metadata": {},
   "source": [
    "##### Regresión Polinomial"
   ]
  },
  {
   "cell_type": "markdown",
   "metadata": {},
   "source": [
    "En la regresión polinomial, el grado del polinomio se usa para ajustar mejor el modelo. Varíe el grado del polinomio y analice los resultados."
   ]
  },
  {
   "cell_type": "code",
   "execution_count": 10,
   "metadata": {},
   "outputs": [
    {
     "name": "stdout",
     "output_type": "stream",
     "text": [
      "Grado del Polinomio: 2\n",
      "MSE: 285614.04056036525, R²: 0.34718904578478815\n",
      "\n"
     ]
    }
   ],
   "source": [
    "# Paso 6: Modelo de Regresión Polinomial\n",
    "degree = 2  # Grado del polinomio\n",
    "poly = PolynomialFeatures(degree=degree)\n",
    "X_train_poly = poly.fit_transform(X_train)\n",
    "X_test_poly = poly.transform(X_test)\n",
    "poly_model = LinearRegression()\n",
    "poly_model.fit(X_train_poly, y_train)\n",
    "y_pred_poly = poly_model.predict(X_test_poly)\n",
    "mse_poly = mean_squared_error(y_test, y_pred_poly)\n",
    "r2_poly = r2_score(y_test, y_pred_poly)\n",
    "\n",
    "print(f\"Grado del Polinomio: {degree}\")\n",
    "print(f\"MSE: {mse_poly}, R²: {r2_poly}\")\n",
    "print()"
   ]
  },
  {
   "cell_type": "markdown",
   "metadata": {},
   "source": [
    "##### Variando el grado del polinomio"
   ]
  },
  {
   "cell_type": "code",
   "execution_count": 11,
   "metadata": {},
   "outputs": [
    {
     "name": "stdout",
     "output_type": "stream",
     "text": [
      "Grado del Polinomio: 1\n",
      "MSE: 240257.02921829975, R²: 0.4508588576626321\n",
      "\n",
      "Grado del Polinomio: 2\n",
      "MSE: 285614.04056036513, R²: 0.34718904578478826\n",
      "\n",
      "Grado del Polinomio: 3\n",
      "MSE: 364683.2274120452, R²: 0.16646532780371548\n",
      "\n",
      "Grado del Polinomio: 4\n",
      "MSE: 1405043.9611699006, R²: -2.211425065819849\n",
      "\n",
      "Grado del Polinomio: 5\n",
      "MSE: 1523294.8017498548, R²: -2.481703949604049\n",
      "\n"
     ]
    },
    {
     "data": {
      "image/png": "[encoded data removed]",
      "text/plain": [
       "<Figure size 1000x600 with 1 Axes>"
      ]
     },
     "metadata": {},
     "output_type": "display_data"
    }
   ],
   "source": [
    "# Prueba diferentes grados de polinomios y analiza los resultados\n",
    "max_range = 6\n",
    "mse_values = []\n",
    "r2_values = []\n",
    "for degree in range(1, max_range):\n",
    "    # Modelo de Regresión Polinomial\n",
    "    poly = PolynomialFeatures(degree=degree)\n",
    "    X_train_poly = poly.fit_transform(X_train)\n",
    "    X_test_poly = poly.transform(X_test)\n",
    "    poly_model = LinearRegression()\n",
    "    poly_model.fit(X_train_poly, y_train)\n",
    "    y_pred_poly = poly_model.predict(X_test_poly)\n",
    "    mse_poly = mean_squared_error(y_test, y_pred_poly)\n",
    "    mse_values.append(mse_poly)\n",
    "    \n",
    "    r2_poly = r2_score(y_test, y_pred_poly)\n",
    "    r2_values.append(r2_poly)\n",
    "    \n",
    "    print(f\"Grado del Polinomio: {degree}\")\n",
    "    print(f\"MSE: {mse_poly}, R²: {r2_poly}\")\n",
    "    print()\n",
    "    \n",
    "# Crear el gráfico\n",
    "plt.figure(figsize=(10, 6))\n",
    "plt.plot(range(1, max_range), mse_values, marker='o', label='MSE')\n",
    "plt.plot(range(1, max_range), r2_values, marker='o', label='R²')\n",
    "plt.title('Resultados de MSE y R² para Diferentes Grados de Polinomio')\n",
    "plt.xlabel('Grado del Polinomio')\n",
    "plt.ylabel('Valor')\n",
    "plt.legend()\n",
    "plt.grid(True)\n",
    "plt.xticks(range(1, max_range))\n",
    "plt.show()"
   ]
  },
  {
   "cell_type": "markdown",
   "metadata": {},
   "source": [
    "##### Interpretación de los resultados"
   ]
  },
  {
   "cell_type": "markdown",
   "metadata": {},
   "source": [
    "**MSE (Mean Squared Error):** El MSE es una medida del promedio de los errores cuadrados entre las predicciones del modelo y los valores reales observados en los datos. Un MSE más bajo indica un mejor ajuste del modelo a los datos. Se calcula como la suma de los errores al cuadrado dividida por el número de observaciones:\n",
    "\n",
    "$$MSE = 1/n * Σ(yi - ŷi)^2$$\n",
    "\n",
    "\n",
    "Donde:\n",
    "\n",
    "- `n` es el número de observaciones.\n",
    "- `yi` son los valores reales.\n",
    "- `y\\hati` son las predicciones del modelo.\n",
    "\n",
    "**Interpretación del MSE:** Un MSE bajo indica que las predicciones del modelo están cerca de los valores reales. Un MSE alto significa que el modelo tiene un mayor error en sus predicciones.\n",
    "\n",
    "**R² (Coefficient of Determination):** El R² es una medida que indica la proporción de la variabilidad total en la variable dependiente que es explicada por el modelo. Representa la bondad de ajuste del modelo en relación con un modelo constante (que solo predice la media de la variable dependiente). R² varía entre 0 y 1, y cuanto más cercano esté a 1, mejor es el ajuste del modelo.\n",
    "\n",
    "$$R² = 1 - Σ(yi - ŷi)^2 / Σ(yi - ȳ)^2$$\n",
    "\n",
    "Donde:\n",
    "\n",
    "- `n` es el número de observaciones.\n",
    "- `yi` son los valores reales.\n",
    "- `y\\hati` son las predicciones del modelo.\n",
    "- `y\\bari` es la media de los valores reales.\n",
    "\n",
    "**Interpretación del R²:** Un R² cercano a 1 indica que el modelo explica una gran cantidad de la variabilidad en los datos. Un R² bajo puede indicar que el modelo no se ajusta bien a los datos.\n",
    "\n",
    "En el contexto de la regresión polinomial, estas métricas ayudarán a evaluar qué grado del polinomio ofrece el mejor equilibrio entre el ajuste a los datos y la capacidad de generalización a nuevas observaciones."
   ]
  },
  {
   "cell_type": "markdown",
   "metadata": {},
   "source": [
    "En una regresión polinomial, buscamos encontrar el equilibrio entre un modelo que se ajuste bien a los datos de entrenamiento y la capacidad de generalizar a nuevos datos. Generalmente, un modelo con un R² más alto y un MSE más bajo es preferible, ya que indica que el modelo se ajusta mejor a los datos y tiene una mejor capacidad de predecir nuevas observaciones.\n",
    "\n",
    "Dado los resultados que has proporcionado, podemos observar lo siguiente:\n",
    "\n",
    "- Grado del Polinomio 1: Tiene un R² de 0.45 y un MSE de 240257.03.\n",
    "- Grado del Polinomio 2: Tiene un R² de 0.35 y un MSE de 285614.04.\n",
    "- Grado del Polinomio 3: Tiene un R² de 0.17 y un MSE de 364683.22.\n",
    "- Grado del Polinomio 4: Tiene un R² de -1.77 y un MSE de 1210887.69.\n",
    "- Grado del Polinomio 5: Tiene un R² de -2.30 y un MSE de 1444121.52.\n",
    "\n",
    "En función de estos resultados, el Grado del Polinomio 1 parece ser la mejor opción entre las que has probado, ya que tiene el R² más alto (0.45) y el MSE más bajo (240257.03). Estos valores indican que este modelo se ajusta relativamente mejor a los datos y tiene una mayor capacidad de predecir nuevas observaciones en comparación con los otros grados de polinomio.\n",
    "\n",
    "Recuerda que aunque estos valores indican la calidad del ajuste a los datos de prueba, siempre es importante tener en cuenta otros factores como la complejidad del modelo y cómo se comporta en datos no vistos (generalización) antes de tomar una decisión definitiva."
   ]
  },
  {
   "cell_type": "markdown",
   "metadata": {},
   "source": [
    "#### Comparación entre el modelo lineal y el modelo polinomial"
   ]
  },
  {
   "cell_type": "code",
   "execution_count": 12,
   "metadata": {},
   "outputs": [
    {
     "name": "stdout",
     "output_type": "stream",
     "text": [
      "Regresión Lineal - MSE: 240257.02921829966, R²: 0.45085885766263223\n",
      "Regresión Polinomial - MSE: 1523294.8017498548, R²: -2.481703949604049\n"
     ]
    }
   ],
   "source": [
    "# Paso 7: Comparación y análisis de resultados\n",
    "print(f\"Regresión Lineal - MSE: {mse_linear}, R²: {r2_linear}\")\n",
    "print(f\"Regresión Polinomial - MSE: {mse_poly}, R²: {r2_poly}\")"
   ]
  },
  {
   "cell_type": "markdown",
   "metadata": {},
   "source": [
    "#### Visualizaciones"
   ]
  },
  {
   "cell_type": "code",
   "execution_count": 13,
   "metadata": {},
   "outputs": [
    {
     "data": {
      "image/png": "[encoded data removed]",
      "text/plain": [
       "<Figure size 640x480 with 1 Axes>"
      ]
     },
     "metadata": {},
     "output_type": "display_data"
    }
   ],
   "source": [
    "# Paso 8: Visualizaciones\n",
    "plt.scatter(y_test, y_pred_linear, label=\"Regresión Lineal\")\n",
    "plt.scatter(y_test, y_pred_poly, label=\"Regresión Polinomial\")\n",
    "plt.xlabel(\"Ventas Mensuales Reales\")\n",
    "plt.ylabel(\"Ventas Mensuales Predichas\")\n",
    "plt.legend()\n",
    "plt.show()"
   ]
  }
 ],
 "metadata": {
  "kernelspec": {
   "display_name": ".venv",
   "language": "python",
   "name": "python3"
  },
  "language_info": {
   "codemirror_mode": {
    "name": "ipython",
    "version": 3
   },
   "file_extension": ".py",
   "mimetype": "text/x-python",
   "name": "python",
   "nbconvert_exporter": "python",
   "pygments_lexer": "ipython3",
   "version": "3.11.4"
  },
  "orig_nbformat": 4
 },
 "nbformat": 4,
 "nbformat_minor": 2
}
