{
 "cells": [
  {
   "cell_type": "markdown",
   "metadata": {},
   "source": [
    "# Actividad 26: Caso de Estudio de Aprendizaje Automatizado\n",
    "\n",
    "En esta actividad, se analizará un caso de estudio fundamental en el ámbito de la seguridad informática: la detección de malware en aplicaciones móviles mediante técnicas de aprendizaje automatizado. El creciente uso de dispositivos móviles, junto con la sofisticación de las amenazas cibernéticas, ha intensificado la necesidad de contar con herramientas eficaces para proteger la información personal y la integridad de los sistemas.\n",
    "\n",
    "A lo largo de la clase, se examinarán métodos de clasificación que permiten identificar aplicaciones maliciosas en archivos APK, aplicando algoritmos de aprendizaje automatizado para diferenciar entre aplicaciones seguras y aquellas que representan un riesgo. Se profundizará en la selección y evaluación de modelos, así como en la implementación de un modelo de clasificación que pueda emplearse en la detección de malware.\n",
    "\n",
    "Finalmente, el trabajo realizado se documentará en un repositorio de GitHub, siguiendo prácticas de desarrollo colaborativo y brindando una base sólida para el análisis práctico en seguridad informática. Esta actividad está orientada a fortalecer tanto el conocimiento técnico en ciencia de datos como las habilidades de trabajo en equipo y documentación."
   ]
  },
  {
   "cell_type": "markdown",
   "metadata": {},
   "source": [
    "## Indicaciones\n",
    "\n",
    "En este ejercicio, se utilizarán los conocimientos adquiridos durante el curso para analizar APKs y crear un pequeño “antivirus”, así como para responder a varias preguntas relacionadas con los datos.\n",
    "\n",
    "A continuación, se detallan las indicaciones para llevar a cabo el análisis, teniendo en cuenta que son instrucciones generales y no un “paso a paso” para solucionar el ejercicio:\n",
    "\n",
    "- **Paso 1: Configuración del entorno**\n",
    "  - Configura tu entorno de desarrollo en Python y asegúrate de tener instaladas las bibliotecas necesarias, como Pandas, Scikit-Learn y Matplotlib.\n",
    "\n",
    "- **Paso 2: Descarga de los datos**\n",
    "  - Descarga el archivo “apk_samples.csv” de la ubicación que el profesor te dará, que contiene muestras de APKs maliciosas y benignas.\n",
    "\n",
    "- **Paso 3: Exploración de datos**\n",
    "  - Carga el archivo CSV y realiza una exploración inicial de los datos para comprender su estructura y contenido.\n",
    "  - Genera visualizaciones que te ayuden a entender la distribución de las etiquetas y las características.\n",
    "\n",
    "- **Paso 4: Preprocesamiento de datos**\n",
    "  - Trata cualquier valor faltante, si los hay.\n",
    "  - Codifica las etiquetas “0” y “1” de la columna `type` como “maliciosa” y “benigna”, respectivamente.\n",
    "  - Divide los datos en conjuntos de entrenamiento y prueba.\n",
    "\n",
    "- **Paso 5: Selección de algoritmos de clasificación**\n",
    "  - Investiga al menos 3 algoritmos de clasificación adecuados para la detección de malware (por ejemplo, SVM, Regresión Logística, Random Forest).\n",
    "  - Elige los algoritmos que consideres más apropiados y justifica tu elección.\n",
    "\n",
    "- **Paso 6: Entrenamiento y evaluación de modelos**\n",
    "  - Divide el conjunto de entrenamiento en subconjuntos para validación cruzada.\n",
    "  - Entrena los algoritmos seleccionados mediante un pipeline utilizando validación cruzada y evalúa su rendimiento utilizando métricas como precisión, exhaustividad y F1-score.\n",
    "\n",
    "- **Paso 7: Selección del mejor clasificador**\n",
    "  - Compara los resultados de los algoritmos y determina cuál ofrece el mejor rendimiento.\n",
    "  - Explica las razones detrás de la elección del mejor clasificador.\n",
    "\n",
    "- **Paso 8: Implementación del modelo de clasificación**\n",
    "  - Utiliza el mejor clasificador para crear un modelo de detección de malware.\n",
    "  - Demuestra cómo se puede emplear este modelo para determinar si una APK desconocida es maliciosa o benigna.\n",
    "\n",
    "- **Paso 9: Documentación en GitHub**\n",
    "  - Crea o utiliza un repositorio en GitHub para este ejercicio.\n",
    "  - Sube el código fuente, los conjuntos de datos y la documentación necesaria al repositorio.\n",
    "\n",
    "- **Paso 10: Elaboración del informe**\n",
    "  - Prepara un informe que incluya los resultados de la evaluación de los algoritmos, la selección del mejor clasificador y la implementación del modelo de clasificación.\n",
    "  - Agrega comentarios y consideraciones sobre el análisis realizado durante la práctica.\n",
    "\n",
    "- **Paso 11: Presentación y evaluación**\n",
    "  - Presenta tus resultados y hallazgos."
   ]
  },
  {
   "cell_type": "markdown",
   "metadata": {},
   "source": [
    "## Entendiendo los datos\n",
    "\n",
    "El conjunto de datos utilizado en este ejercicio contiene 398 muestras de aplicaciones Android (APKs), divididas en 199 aplicaciones maliciosas y 199 aplicaciones benignas. Estas aplicaciones se representaron por los permisos que solicitan durante su instalación y funcionamiento. La solicitud de permisos específicos es una de las características más relevantes para analizar el comportamiento potencial de una aplicación en Android."
   ]
  },
  {
   "cell_type": "markdown",
   "metadata": {},
   "source": [
    "### Tipos de Permisos en Android\n",
    "\n",
    "En el sistema operativo Android, existen aproximadamente 330 permisos distintos que los desarrolladores pueden solicitar al crear una aplicación. Estos permisos regulan el acceso de las aplicaciones a funciones y datos específicos en el dispositivo, y se dividen en diferentes categorías que reflejan su nivel de riesgo y su potencial impacto en la privacidad y seguridad del usuario."
   ]
  },
  {
   "cell_type": "markdown",
   "metadata": {},
   "source": [
    "#### Permisos de Bajo Riesgo\n",
    "\n",
    "Algunos permisos son considerados relativamente inocuos, ya que no otorgan acceso a información sensible ni permiten acciones que afecten la seguridad del dispositivo o la privacidad del usuario. Ejemplos de estos permisos incluyen:\n",
    "\n",
    "- `ACCESS_NETWORK_STATE`: permite a la aplicación saber si hay conexión a Internet, sin conectarse.\n",
    "- `VIBRATE`: permite a la aplicación activar la vibración en el dispositivo.\n",
    "- `SET_WALLPAPER`: permite a la aplicación cambiar el fondo de pantalla del dispositivo.\n",
    "\n",
    "Estos permisos son necesarios para ciertas funciones menores de la aplicación y, en general, no presentan riesgos importantes para el usuario."
   ]
  },
  {
   "cell_type": "markdown",
   "metadata": {},
   "source": [
    "#### Permisos de Alto Riesgo\n",
    "\n",
    "Otros permisos, sin embargo, pueden permitir a una aplicación acceder a información privada o realizar acciones críticas que, en manos de aplicaciones maliciosas, comprometen la seguridad del usuario. Ejemplos de estos permisos son:\n",
    "\n",
    "- `READ_CONTACTS`: permite acceder a la lista de contactos, lo cual es sensible si se usa para recopilación de datos o spam.\n",
    "- `ACCESS_FINE_LOCATION`: permite rastrear la ubicación precisa del usuario, lo cual puede ser problemático en términos de privacidad.\n",
    "- `SEND_SMS`: permite enviar mensajes SMS desde el dispositivo, lo cual puede derivar en cargos no autorizados o incluso fraude.\n",
    "- `RECORD_AUDIO`: permite la grabación de audio, que podría ser usado para espiar al usuario."
   ]
  },
  {
   "cell_type": "markdown",
   "metadata": {},
   "source": [
    "#### Representar las APKs por sus Permisos: Justificación\n",
    "\n",
    "La representación de aplicaciones a través de los permisos que solicitan es útil para la detección de comportamientos potencialmente maliciosos. En Android, los permisos sirven como una interfaz pública que todas las aplicaciones deben utilizar para acceder a recursos específicos del sistema operativo. Debido a esta uniformidad, la solicitud de ciertos permisos puede indicar, de forma medible, el comportamiento esperado de una aplicación.\n",
    "\n",
    "La premisa de que las aplicaciones maliciosas tienden a solicitar permisos similares y de mayor peligrosidad es respaldada por el hecho de que el malware generalmente necesita acceder a funciones sensibles para realizar acciones malintencionadas. Por ejemplo, muchas aplicaciones maliciosas solicitan permisos como `READ_CONTACTS`, `SEND_SMS`, o `ACCESS_FINE_LOCATION`, que pueden ser explotados para obtener datos personales, interceptar comunicaciones o realizar acciones no autorizadas. Esto las diferencia de aplicaciones benignas, que suelen limitarse a permisos esenciales y menos invasivos."
   ]
  },
  {
   "cell_type": "markdown",
   "metadata": {},
   "source": [
    "#### Limitaciones de Este Enfoque\n",
    "\n",
    "Si bien esta representación es efectiva, también presenta limitaciones, ya que no todos los permisos solicitados por una aplicación determinan por sí solos su intencionalidad. Algunas aplicaciones benignas pueden requerir permisos sensibles debido a sus funcionalidades (por ejemplo, una aplicación de mapas que requiere acceso a la ubicación). Asimismo, algunos malware avanzados logran evadir la detección solicitando permisos aparentemente inocuos."
   ]
  },
  {
   "cell_type": "markdown",
   "metadata": {},
   "source": [
    "Este contexto ayudará a construir un modelo de clasificación que, basándose en los permisos, pueda ofrecer una aproximación para diferenciar entre aplicaciones benignas y potencialmente maliciosas."
   ]
  },
  {
   "cell_type": "markdown",
   "metadata": {},
   "source": [
    "### Etiquetas\n",
    "\n",
    "En el conjunto de datos utilizado en este ejercicio, las aplicaciones Android (APKs) están etiquetadas como **maliciosas** o **benignas**. Estas etiquetas son cruciales para el propósito de la clasificación, ya que permiten distinguir entre aplicaciones que representan una amenaza potencial y aquellas que no.\n",
    "\n",
    "Las etiquetas en el conjunto de datos son binarias, representadas por los valores:\n",
    "\n",
    "- **0**: Representa una **aplicación benigna**, es decir, una aplicación que no presenta comportamientos maliciosos conocidos y que no pone en riesgo la seguridad o privacidad del usuario.\n",
    "- **1**: Representa una **aplicación maliciosa**, es decir, una aplicación que ha sido identificada como una amenaza, ya sea por sus permisos solicitados, su comportamiento sospechoso, o la presencia de código malicioso como virus o spyware.\n",
    "\n",
    "Es importante señalar que las etiquetas en este conjunto de datos han sido predefinidas y verificadas por expertos en seguridad, lo que les da fiabilidad. Sin embargo, en la práctica, el etiquetado puede ser un desafío debido a la constante evolución de las amenazas. Nuevas formas de malware pueden no estar etiquetadas correctamente en el conjunto de datos, lo que puede influir en la capacidad del modelo para generalizar. Por ello, es fundamental mantener los conjuntos de datos actualizados para reflejar las amenazas actuales."
   ]
  },
  {
   "cell_type": "markdown",
   "metadata": {},
   "source": [
    "## Análisis de Datos\n",
    "\n",
    "En esta fase, el objetivo es cargar el conjunto de datos y explorar su estructura, distribuciones y cualquier posible anomalía o patrón que pueda influir en el modelo de clasificación. Primeramente se debe establecer el entorno de trabajo adecuado para poder solucionar el ejercicio."
   ]
  },
  {
   "cell_type": "markdown",
   "metadata": {},
   "source": [
    "### Configuración del Entorno (Paso 1)\n",
    "\n",
    "Se debe configurar el entorno de desarrollo en Python y asegurarse de tener instaladas las bibliotecas necesarias."
   ]
  },
  {
   "cell_type": "code",
   "execution_count": null,
   "metadata": {
    "vscode": {
     "languageId": "plaintext"
    }
   },
   "outputs": [],
   "source": [
    "%pip install pandas scikit-learn matplotlib seaborn"
   ]
  }
 ],
 "metadata": {
  "language_info": {
   "name": "python"
  }
 },
 "nbformat": 4,
 "nbformat_minor": 2
}
