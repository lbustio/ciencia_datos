{
 "cells": [
  {
   "attachments": {},
   "cell_type": "markdown",
   "metadata": {},
   "source": [
    "# Actividad 06: Python: estructuras de datos con Pandas y manejo de archivos\n",
    "\n",
    "Tomado de: https://aprendeconalf.es/docencia/python/manual/pandas/"
   ]
  },
  {
   "attachments": {},
   "cell_type": "markdown",
   "metadata": {},
   "source": [
    "Primeramente, hay que instalar pandas:"
   ]
  },
  {
   "cell_type": "code",
   "execution_count": 1,
   "metadata": {},
   "outputs": [
    {
     "name": "stdout",
     "output_type": "stream",
     "text": [
      "Requirement already satisfied: pandas in /Users/lazaro.bustio/Gits/ciencia_datos/.venv/lib/python3.11/site-packages (2.2.2)\n",
      "Requirement already satisfied: numpy>=1.23.2 in /Users/lazaro.bustio/Gits/ciencia_datos/.venv/lib/python3.11/site-packages (from pandas) (2.0.1)\n",
      "Requirement already satisfied: python-dateutil>=2.8.2 in /Users/lazaro.bustio/Gits/ciencia_datos/.venv/lib/python3.11/site-packages (from pandas) (2.9.0.post0)\n",
      "Requirement already satisfied: pytz>=2020.1 in /Users/lazaro.bustio/Gits/ciencia_datos/.venv/lib/python3.11/site-packages (from pandas) (2024.1)\n",
      "Requirement already satisfied: tzdata>=2022.7 in /Users/lazaro.bustio/Gits/ciencia_datos/.venv/lib/python3.11/site-packages (from pandas) (2024.1)\n",
      "Requirement already satisfied: six>=1.5 in /Users/lazaro.bustio/Gits/ciencia_datos/.venv/lib/python3.11/site-packages (from python-dateutil>=2.8.2->pandas) (1.16.0)\n",
      "Note: you may need to restart the kernel to use updated packages.\n"
     ]
    }
   ],
   "source": [
    "%pip install pandas # Pandas ya instala por defecto a Numpy"
   ]
  },
  {
   "attachments": {},
   "cell_type": "markdown",
   "metadata": {},
   "source": [
    "## Series"
   ]
  },
  {
   "cell_type": "code",
   "execution_count": 2,
   "metadata": {},
   "outputs": [],
   "source": [
    "# Importar la biblioteca pandas\n",
    "import pandas as pd"
   ]
  },
  {
   "cell_type": "code",
   "execution_count": 3,
   "metadata": {},
   "outputs": [
    {
     "name": "stdout",
     "output_type": "stream",
     "text": [
      "0     Matemáticas\n",
      "1        Historia\n",
      "2        Economía\n",
      "3    Programación\n",
      "4          Inglés\n",
      "dtype: string\n"
     ]
    }
   ],
   "source": [
    "# Crear una serie a partir de una lista\n",
    "s = pd.Series(['Matemáticas', 'Historia', 'Economía', 'Programación', 'Inglés'], dtype='string')\n",
    "\n",
    "# Imprimir la serie\n",
    "print(s)"
   ]
  },
  {
   "cell_type": "code",
   "execution_count": 4,
   "metadata": {},
   "outputs": [
    {
     "name": "stdout",
     "output_type": "stream",
     "text": [
      "Matemáticas     6.0\n",
      "Economía        4.5\n",
      "Programación    8.5\n",
      "dtype: float64\n"
     ]
    }
   ],
   "source": [
    "# Crear una serie a partir de un diccionario\n",
    "s = pd.Series({'Matemáticas': 6.0,  'Economía': 4.5, 'Programación': 8.5})\n",
    "\n",
    "# Imprimir la serie\n",
    "print(s)"
   ]
  },
  {
   "cell_type": "code",
   "execution_count": 5,
   "metadata": {},
   "outputs": [
    {
     "name": "stdout",
     "output_type": "stream",
     "text": [
      "10\n",
      "RangeIndex(start=0, stop=10, step=1)\n",
      "int64\n"
     ]
    }
   ],
   "source": [
    "# Crear una serie\n",
    "s = pd.Series([1, 2, 2, 3, 3, 3, 4, 4, 4, 4])\n",
    "\n",
    "# Imprimir el tamaño de la serie\n",
    "print(s.size)\n",
    "\n",
    "# Imprimir los índices de la serie\n",
    "print(s.index)\n",
    "\n",
    "# Imprimir el tipo de datos de la serie\n",
    "print(s.dtype)\n"
   ]
  },
  {
   "cell_type": "code",
   "execution_count": 6,
   "metadata": {},
   "outputs": [
    {
     "name": "stdout",
     "output_type": "stream",
     "text": [
      "Economía        4.5\n",
      "Programación    8.5\n",
      "dtype: float64\n",
      "4.5\n",
      "Programación    8.5\n",
      "Matemáticas     6.0\n",
      "dtype: float64\n"
     ]
    }
   ],
   "source": [
    "# Acceso a los elementos de una serie\n",
    "\n",
    "# Crear una serie a partir de un diccionario\n",
    "s = pd.Series({'Matemáticas': 6.0,  'Economía': 4.5, 'Programación': 8.5})\n",
    "\n",
    "# Acceder a un rango de elementos de la serie por posición\n",
    "print(s[1:3])\n",
    "\n",
    "# Acceder a un elemento de la serie por etiqueta\n",
    "print(s['Economía'])\n",
    "\n",
    "# Acceder a varios elementos de la serie por etiqueta\n",
    "print(s[['Programación', 'Matemáticas']])"
   ]
  },
  {
   "cell_type": "code",
   "execution_count": 7,
   "metadata": {},
   "outputs": [
    {
     "name": "stdout",
     "output_type": "stream",
     "text": [
      "10\n",
      "20\n",
      "0     1\n",
      "1     2\n",
      "2     3\n",
      "3     4\n",
      "4     6\n",
      "5     8\n",
      "6    10\n",
      "7    13\n",
      "8    16\n",
      "9    20\n",
      "dtype: int64\n",
      "1    4\n",
      "2    3\n",
      "3    2\n",
      "4    1\n",
      "Name: count, dtype: int64\n",
      "1    0.4\n",
      "2    0.3\n",
      "3    0.2\n",
      "4    0.1\n",
      "Name: proportion, dtype: float64\n",
      "1\n",
      "4\n",
      "2.0\n",
      "1.0540925533894598\n",
      "count    10.000000\n",
      "mean      2.000000\n",
      "std       1.054093\n",
      "min       1.000000\n",
      "25%       1.000000\n",
      "50%       2.000000\n",
      "75%       2.750000\n",
      "max       4.000000\n",
      "dtype: float64\n"
     ]
    }
   ],
   "source": [
    "# Resumen descriptivo de una serie\n",
    "# Crear una serie\n",
    "s = pd.Series([1, 1, 1, 1, 2, 2, 2, 3, 3, 4])\n",
    "\n",
    "# Contar los elementos de la serie\n",
    "print(s.count())\n",
    "\n",
    "# Sumar todos los elementos de la serie\n",
    "print(s.sum())\n",
    "\n",
    "# Calcular la suma acumulada de los elementos de la serie\n",
    "print(s.cumsum())\n",
    "\n",
    "# Contar la frecuencia de cada valor en la serie\n",
    "print(s.value_counts())\n",
    "\n",
    "# Calcular la frecuencia relativa de cada valor en la serie\n",
    "print(s.value_counts(normalize=True))\n",
    "\n",
    "# Encontrar el valor mínimo en la serie\n",
    "print(s.min())\n",
    "\n",
    "# Encontrar el valor máximo en la serie\n",
    "print(s.max())\n",
    "\n",
    "# Calcular el promedio de la serie\n",
    "print(s.mean())\n",
    "\n",
    "# Calcular la desviación estándar de la serie\n",
    "print(s.std())\n",
    "\n",
    "# Generar un resumen estadístico de la serie\n",
    "print(s.describe())\n"
   ]
  },
  {
   "cell_type": "code",
   "execution_count": 8,
   "metadata": {},
   "outputs": [
    {
     "name": "stdout",
     "output_type": "stream",
     "text": [
      "0    2\n",
      "1    4\n",
      "2    6\n",
      "3    8\n",
      "dtype: int64\n",
      "0    1\n",
      "1    0\n",
      "2    1\n",
      "3    0\n",
      "dtype: int64\n",
      "0    aaaaa\n",
      "1    bbbbb\n",
      "2    ccccc\n",
      "dtype: object\n"
     ]
    }
   ],
   "source": [
    "# Aplicar operaciones a una serie\n",
    "# Crear una serie numérica\n",
    "s = pd.Series([1, 2, 3, 4])\n",
    "\n",
    "# Multiplicar todos los elementos de la serie por 2\n",
    "print(s * 2)\n",
    "\n",
    "# Obtener el resto de la división de todos los elementos de la serie por 2\n",
    "print(s % 2)\n",
    "\n",
    "# Crear una serie de cadenas\n",
    "s = pd.Series(['a', 'b', 'c'])\n",
    "\n",
    "# Repetir cada elemento de la serie 5 veces\n",
    "print(s * 5)\n"
   ]
  },
  {
   "cell_type": "code",
   "execution_count": 9,
   "metadata": {},
   "outputs": [
    {
     "name": "stdout",
     "output_type": "stream",
     "text": [
      "0    0.000000\n",
      "1    0.693147\n",
      "2    1.098612\n",
      "3    1.386294\n",
      "dtype: float64\n",
      "0    A\n",
      "1    B\n",
      "2    C\n",
      "dtype: object\n"
     ]
    }
   ],
   "source": [
    "# Aplicar funciones a una serie\n",
    "# Importar la biblioteca pandas\n",
    "from math import log\n",
    "\n",
    "# Crear una serie numérica\n",
    "s = pd.Series([1, 2, 3, 4])\n",
    "\n",
    "# Aplicar la función logaritmo natural a todos los elementos de la serie\n",
    "print(s.apply(log))\n",
    "\n",
    "# Crear una serie de cadenas\n",
    "s = pd.Series(['a', 'b', 'c'])\n",
    "\n",
    "# Aplicar la función str.upper a todos los elementos de la serie\n",
    "print(s.apply(str.upper))\n"
   ]
  },
  {
   "cell_type": "code",
   "execution_count": 10,
   "metadata": {},
   "outputs": [
    {
     "name": "stdout",
     "output_type": "stream",
     "text": [
      "Matemáticas     6.0\n",
      "Programación    8.5\n",
      "dtype: float64\n"
     ]
    }
   ],
   "source": [
    "# Filtrado de una serie\n",
    "# Crear una serie con nombres de asignaturas y calificaciones\n",
    "s = pd.Series({'Matemáticas': 6.0, 'Economía': 4.5, 'Programación': 8.5})\n",
    "\n",
    "# Filtrar la serie para obtener los elementos con calificación mayor a 5\n",
    "print(s[s > 5])\n"
   ]
  },
  {
   "cell_type": "code",
   "execution_count": 11,
   "metadata": {},
   "outputs": [
    {
     "name": "stdout",
     "output_type": "stream",
     "text": [
      "Economía        4.5\n",
      "Matemáticas     6.0\n",
      "Programación    8.5\n",
      "dtype: float64\n",
      "Programación    8.5\n",
      "Matemáticas     6.0\n",
      "Economía        4.5\n",
      "dtype: float64\n"
     ]
    }
   ],
   "source": [
    "# Ordenar una serie\n",
    "# Crear una serie con nombres de asignaturas y calificaciones\n",
    "\n",
    "s = pd.Series({'Matemáticas': 6.0, 'Economía': 4.5, 'Programación': 8.5})\n",
    "\n",
    "# Ordenar la serie por los valores en orden ascendente\n",
    "print(s.sort_values())\n",
    "\n",
    "# Ordenar la serie por los índices en orden descendente\n",
    "print(s.sort_index(ascending=False))\n"
   ]
  },
  {
   "cell_type": "code",
   "execution_count": 12,
   "metadata": {},
   "outputs": [
    {
     "name": "stdout",
     "output_type": "stream",
     "text": [
      "0       a\n",
      "1       b\n",
      "2    None\n",
      "3       c\n",
      "4     NaN\n",
      "5       d\n",
      "dtype: object\n",
      "0    a\n",
      "1    b\n",
      "3    c\n",
      "5    d\n",
      "dtype: object\n"
     ]
    }
   ],
   "source": [
    "# Eliminar los dados desconocidos en una serie\n",
    "# Importar la biblioteca pandas y numpy\n",
    "import numpy as np\n",
    "\n",
    "# Crear una serie con valores nulos\n",
    "s = pd.Series(['a', 'b', None, 'c', np.nan, 'd'])\n",
    "\n",
    "# Imprimir la serie original con valores nulos\n",
    "print(s)\n",
    "\n",
    "# Eliminar los valores nulos de la serie\n",
    "s_dropna = s.dropna()\n",
    "\n",
    "# Imprimir la serie sin valores nulos\n",
    "print(s_dropna)\n"
   ]
  },
  {
   "attachments": {},
   "cell_type": "markdown",
   "metadata": {},
   "source": [
    "## Dataframes"
   ]
  },
  {
   "cell_type": "code",
   "execution_count": 13,
   "metadata": {},
   "outputs": [
    {
     "name": "stdout",
     "output_type": "stream",
     "text": [
      "    nombre  edad         grado             correo\n",
      "0    María    18      Economía    maria@gmail.com\n",
      "1     Luis    22      Medicina      luis@yahoo.es\n",
      "2   Carmen    20  Arquitectura   carmen@gmail.com\n",
      "3  Antonio    21      Economía  antonio@gmail.com\n"
     ]
    }
   ],
   "source": [
    "# Creación de un DataFrame a partir de un diccionario de listas\n",
    "\n",
    "# Crear un diccionario de listas con los datos\n",
    "datos = {'nombre': ['María', 'Luis', 'Carmen', 'Antonio'],\n",
    "         'edad': [18, 22, 20, 21],\n",
    "         'grado': ['Economía', 'Medicina', 'Arquitectura', 'Economía'],\n",
    "         'correo': ['maria@gmail.com', 'luis@yahoo.es', 'carmen@gmail.com', 'antonio@gmail.com']}\n",
    "\n",
    "# Crear un DataFrame a partir del diccionario de listas\n",
    "df = pd.DataFrame(datos)\n",
    "\n",
    "# Imprimir el DataFrame\n",
    "print(df)\n"
   ]
  },
  {
   "cell_type": "code",
   "execution_count": 14,
   "metadata": {},
   "outputs": [
    {
     "name": "stdout",
     "output_type": "stream",
     "text": [
      "   Nombre  Edad\n",
      "0   María    18\n",
      "1    Luis    22\n",
      "2  Carmen    20\n"
     ]
    }
   ],
   "source": [
    "# Creación de un DataFrame a partir de una lista de listas\n",
    "\n",
    "# Crear una lista de listas con los datos\n",
    "datos = [['María', 18], ['Luis', 22], ['Carmen', 20]]\n",
    "\n",
    "# Crear un DataFrame a partir de la lista de listas\n",
    "df = pd.DataFrame(datos, columns=['Nombre', 'Edad'])\n",
    "\n",
    "# Imprimir el DataFrame\n",
    "print(df)\n"
   ]
  },
  {
   "cell_type": "code",
   "execution_count": 15,
   "metadata": {},
   "outputs": [
    {
     "name": "stdout",
     "output_type": "stream",
     "text": [
      "   Nombre  Edad\n",
      "0   María  18.0\n",
      "1    Luis  22.0\n",
      "2  Carmen   NaN\n"
     ]
    }
   ],
   "source": [
    "# Creación de un DataFrame a partir de una lista de diccionarios\n",
    "\n",
    "# Crear una lista de diccionarios con los datos\n",
    "datos = [{'Nombre': 'María', 'Edad': 18},\n",
    "         {'Nombre': 'Luis', 'Edad': 22},\n",
    "         {'Nombre': 'Carmen'}]\n",
    "\n",
    "# Crear un DataFrame a partir de la lista de diccionarios\n",
    "df = pd.DataFrame(datos)\n",
    "\n",
    "# Imprimir el DataFrame\n",
    "print(df)\n"
   ]
  },
  {
   "cell_type": "code",
   "execution_count": 16,
   "metadata": {},
   "outputs": [
    {
     "name": "stdout",
     "output_type": "stream",
     "text": [
      "          a         b         c\n",
      "0  0.069583  0.699723 -0.114578\n",
      "1 -1.257263  0.616699 -1.133311\n",
      "2  0.237865 -0.251722  0.095743\n",
      "3  0.573014 -0.315069 -0.091183\n"
     ]
    }
   ],
   "source": [
    "# Creación de un DataFrame a partir de un array\n",
    "# Importar la biblioteca pandas\n",
    "import numpy as np\n",
    "\n",
    "# Crear una matriz NumPy de números aleatorios\n",
    "datos = np.random.randn(4, 3)\n",
    "\n",
    "# Crear un DataFrame a partir de la matriz NumPy\n",
    "df = pd.DataFrame(datos, columns=['a', 'b', 'c'])\n",
    "\n",
    "# Imprimir el DataFrame\n",
    "print(df)\n"
   ]
  },
  {
   "cell_type": "code",
   "execution_count": 17,
   "metadata": {},
   "outputs": [
    {
     "name": "stdout",
     "output_type": "stream",
     "text": [
      "             nombre,edad,sexo,peso,altura,colesterol\n",
      "0  José Luis Martínez Izquierdo,18,H,85.0,1.79,182.0\n",
      "1                Rosa Díaz Díaz,32,M,65.0,1.73,232.0\n",
      "2             Javier García Sánchez,24,H,,1.81,191.0\n",
      "3            Carmen López Pinzón,35,M,65.0,1.7,200.0\n",
      "4          Marisa López Collado,46,M,51.0,1.58,148.0\n"
     ]
    }
   ],
   "source": [
    "# Creación de un DataFrame a partir de un archivo CSV o Excel\n",
    "# Leer el archivo CSV o Excel y crear un DataFrame\n",
    "df = pd.read_csv(\"https://raw.githubusercontent.com/asalber/manual-python/master/datos/colesterol.csv\", sep=\";\", decimal=\",\")\n",
    "\n",
    "# Imprimir las primeras filas del DataFrame\n",
    "print(df.head())\n",
    "\n",
    "# Si diera problemas, ejecutar en la consola:\n",
    "# /Applications/Python\\ 3.11/Install\\ Certificates.command"
   ]
  },
  {
   "cell_type": "code",
   "execution_count": 18,
   "metadata": {},
   "outputs": [
    {
     "name": "stdout",
     "output_type": "stream",
     "text": [
      "<class 'pandas.core.frame.DataFrame'>\n",
      "RangeIndex: 14 entries, 0 to 13\n",
      "Data columns (total 6 columns):\n",
      " #   Column      Non-Null Count  Dtype  \n",
      "---  ------      --------------  -----  \n",
      " 0   nombre      14 non-null     object \n",
      " 1   edad        14 non-null     int64  \n",
      " 2   sexo        14 non-null     object \n",
      " 3   peso        13 non-null     float64\n",
      " 4   altura      14 non-null     float64\n",
      " 5   colesterol  13 non-null     float64\n",
      "dtypes: float64(3), int64(1), object(2)\n",
      "memory usage: 804.0+ bytes\n",
      "None\n",
      "(14, 6)\n",
      "84\n",
      "Index(['nombre', 'edad', 'sexo', 'peso', 'altura', 'colesterol'], dtype='object')\n",
      "nombre         object\n",
      "edad            int64\n",
      "sexo           object\n",
      "peso          float64\n",
      "altura        float64\n",
      "colesterol    float64\n",
      "dtype: object\n"
     ]
    }
   ],
   "source": [
    "# Metadatos de un dataframe\n",
    "\n",
    "# Leer el archivo CSV desde la URL especificada\n",
    "df = pd.read_csv(\"https://raw.githubusercontent.com/asalber/manual-python/master/datos/colesteroles.csv\", sep=\";\", decimal=\",\")\n",
    "\n",
    "# Imprimir información general del DataFrame\n",
    "print(df.info())\n",
    "\n",
    "# Obtener la forma (número de filas y columnas) del DataFrame\n",
    "print(df.shape)\n",
    "\n",
    "# Obtener el tamaño total del DataFrame (número de elementos)\n",
    "print(df.size)\n",
    "\n",
    "# Obtener los nombres de las columnas del DataFrame\n",
    "print(df.columns)\n",
    "\n",
    "# Obtener los tipos de datos de cada columna del DataFrame\n",
    "print(df.dtypes)\n"
   ]
  },
  {
   "cell_type": "code",
   "execution_count": 19,
   "metadata": {},
   "outputs": [
    {
     "name": "stdout",
     "output_type": "stream",
     "text": [
      "191.0\n",
      "                   nombre y apellidos  edad sexo   peso  estatura  colesterol\n",
      "1000     José Luis Martínez Izquierdo    18    H   85.0      1.79       182.0\n",
      "1001                   Rosa Díaz Díaz    32    M   65.0      1.73       232.0\n",
      "1002            Javier García Sánchez    24    H    NaN      1.81       191.0\n",
      "3                 Carmen López Pinzón    35    M   65.0      1.70       200.0\n",
      "4                Marisa López Collado    46    M   51.0      1.58       148.0\n",
      "5                   Antonio Ruiz Cruz    68    H   66.0      1.74       249.0\n",
      "6             Antonio Fernández Ocaña    51    H   62.0      1.72       276.0\n",
      "7               Pilar Martín González    22    M   60.0      1.66         NaN\n",
      "8                Pedro Gálvez Tenorio    35    H   90.0      1.94       241.0\n",
      "9             Santiago Reillo Manzano    46    H   75.0      1.85       280.0\n",
      "10              Macarena Álvarez Luna    53    M   55.0      1.62       262.0\n",
      "11         José María de la Guía Sanz    58    H   78.0      1.87       198.0\n",
      "12    Miguel Angel Cuadrado Gutiérrez    27    H  109.0      1.98       210.0\n",
      "13              Carolina Rubio Moreno    20    M   61.0      1.77       194.0\n"
     ]
    }
   ],
   "source": [
    "# Leer el archivo CSV desde la URL especificada\n",
    "df = pd.read_csv(\"https://raw.githubusercontent.com/asalber/manual-python/master/datos/colesterol.csv\")\n",
    "\n",
    "# Imprimir el valor de la columna \"colesterol\" en la fila 2\n",
    "print(df.loc[2, \"colesterol\"])\n",
    "\n",
    "# Renombrar columnas y cambiar los índices del DataFrame\n",
    "print(df.rename(columns={\"nombre\":\"nombre y apellidos\", \"altura\":\"estatura\"}, index={0:1000, 1:1001, 2:1002}))\n"
   ]
  },
  {
   "cell_type": "code",
   "execution_count": 20,
   "metadata": {},
   "outputs": [
    {
     "name": "stdout",
     "output_type": "stream",
     "text": [
      "                 nombre  tensión  colesterol\n",
      "4  Marisa López Collado      NaN       148.0\n",
      "3   Carmen López Pinzón      NaN       200.0\n",
      "1        Rosa Díaz Díaz      NaN       232.0\n"
     ]
    }
   ],
   "source": [
    "# Reindexar un DataFrame\n",
    "\n",
    "# Leer el archivo CSV desde la URL especificada\n",
    "df = pd.read_csv(\"https://raw.githubusercontent.com/asalber/manual-python/master/datos/colesterol.csv\")\n",
    "\n",
    "# Reindexar el DataFrame con índices y columnas personalizadas\n",
    "print(df.reindex(index=[4, 3, 1], columns=[\"nombre\", \"tensión\", \"colesterol\"]))\n"
   ]
  },
  {
   "cell_type": "code",
   "execution_count": 21,
   "metadata": {},
   "outputs": [
    {
     "name": "stdout",
     "output_type": "stream",
     "text": [
      "65.0\n",
      "nombre    Rosa Díaz Díaz\n",
      "edad                  32\n",
      "Name: 1, dtype: object\n"
     ]
    }
   ],
   "source": [
    "# Acceso a los elementos de un DataFrame\n",
    "\n",
    "# Leer el archivo CSV desde la URL especificada\n",
    "df = pd.read_csv(\"https://raw.githubusercontent.com/asalber/manual-python/master/datos/colesterol.csv\")\n",
    "\n",
    "# Imprimir el valor en la fila 1, columna 3 (basado en posición)\n",
    "print(df.iloc[1, 3])\n",
    "\n",
    "# Imprimir las primeras 2 columnas de la fila 1 (basado en posición)\n",
    "print(df.iloc[1, :2])"
   ]
  },
  {
   "cell_type": "code",
   "execution_count": 22,
   "metadata": {},
   "outputs": [
    {
     "name": "stdout",
     "output_type": "stream",
     "text": [
      "191.0\n",
      "   colesterol  peso\n",
      "0       182.0  85.0\n",
      "1       232.0  65.0\n",
      "2       191.0   NaN\n",
      "3       200.0  65.0\n",
      "0     182.0\n",
      "1     232.0\n",
      "2     191.0\n",
      "3     200.0\n",
      "4     148.0\n",
      "5     249.0\n",
      "6     276.0\n",
      "7       NaN\n",
      "8     241.0\n",
      "9     280.0\n",
      "10    262.0\n",
      "11    198.0\n",
      "12    210.0\n",
      "13    194.0\n",
      "Name: colesterol, dtype: float64\n"
     ]
    }
   ],
   "source": [
    "# Acceso a los elementos mediante nombres\n",
    "\n",
    "# Leer el archivo CSV desde la URL especificada\n",
    "df = pd.read_csv(\"https://raw.githubusercontent.com/asalber/manual-python/master/datos/colesterol.csv\")\n",
    "\n",
    "# Imprimir el valor en la fila 2, columna \"colesterol\"\n",
    "print(df.loc[2, \"colesterol\"])\n",
    "\n",
    "# Imprimir las columnas \"colesterol\" y \"peso\" de las filas 0 a 3\n",
    "print(df.loc[:3, (\"colesterol\", \"peso\")])\n",
    "\n",
    "# Imprimir la columna \"colesterol\" completa\n",
    "print(df[\"colesterol\"])\n"
   ]
  },
  {
   "cell_type": "code",
   "execution_count": 23,
   "metadata": {},
   "outputs": [
    {
     "name": "stdout",
     "output_type": "stream",
     "text": [
      "                             nombre  edad sexo   peso  altura  colesterol  \\\n",
      "0      José Luis Martínez Izquierdo    18    H   85.0    1.79       182.0   \n",
      "1                    Rosa Díaz Díaz    32    M   65.0    1.73       232.0   \n",
      "2             Javier García Sánchez    24    H    NaN    1.81       191.0   \n",
      "3               Carmen López Pinzón    35    M   65.0    1.70       200.0   \n",
      "4              Marisa López Collado    46    M   51.0    1.58       148.0   \n",
      "5                 Antonio Ruiz Cruz    68    H   66.0    1.74       249.0   \n",
      "6           Antonio Fernández Ocaña    51    H   62.0    1.72       276.0   \n",
      "7             Pilar Martín González    22    M   60.0    1.66         NaN   \n",
      "8              Pedro Gálvez Tenorio    35    H   90.0    1.94       241.0   \n",
      "9           Santiago Reillo Manzano    46    H   75.0    1.85       280.0   \n",
      "10            Macarena Álvarez Luna    53    M   55.0    1.62       262.0   \n",
      "11       José María de la Guía Sanz    58    H   78.0    1.87       198.0   \n",
      "12  Miguel Angel Cuadrado Gutiérrez    27    H  109.0    1.98       210.0   \n",
      "13            Carolina Rubio Moreno    20    M   61.0    1.77       194.0   \n",
      "\n",
      "   diabetes  \n",
      "0     False  \n",
      "1     False  \n",
      "2      True  \n",
      "3     False  \n",
      "4      True  \n",
      "5       NaN  \n",
      "6       NaN  \n",
      "7       NaN  \n",
      "8       NaN  \n",
      "9       NaN  \n",
      "10      NaN  \n",
      "11      NaN  \n",
      "12      NaN  \n",
      "13      NaN  \n"
     ]
    }
   ],
   "source": [
    "# Añadir columnas a un DataFrame\n",
    "\n",
    "# Leer el archivo CSV desde la URL especificada\n",
    "df = pd.read_csv(\"https://raw.githubusercontent.com/asalber/manual-python/master/datos/colesterol.csv\")\n",
    "\n",
    "# Agregar una nueva columna \"diabetes\" al DataFrame\n",
    "df[\"diabetes\"] = pd.Series([False, False, True, False, True])\n",
    "\n",
    "# Imprimir el DataFrame resultante\n",
    "print(df)\n"
   ]
  },
  {
   "cell_type": "code",
   "execution_count": 24,
   "metadata": {},
   "outputs": [
    {
     "name": "stdout",
     "output_type": "stream",
     "text": [
      "0     179.0\n",
      "1     173.0\n",
      "2     181.0\n",
      "3     170.0\n",
      "4     158.0\n",
      "5     174.0\n",
      "6     172.0\n",
      "7     166.0\n",
      "8     194.0\n",
      "9     185.0\n",
      "10    162.0\n",
      "11    187.0\n",
      "12    198.0\n",
      "13    177.0\n",
      "Name: altura, dtype: float64\n",
      "0     False\n",
      "1      True\n",
      "2     False\n",
      "3      True\n",
      "4      True\n",
      "5     False\n",
      "6     False\n",
      "7      True\n",
      "8     False\n",
      "9     False\n",
      "10     True\n",
      "11    False\n",
      "12    False\n",
      "13     True\n",
      "Name: sexo, dtype: bool\n"
     ]
    }
   ],
   "source": [
    "# Operaciones sobre columnas\n",
    "\n",
    "# Leer el archivo CSV desde la URL especificada\n",
    "df = pd.read_csv(\"https://raw.githubusercontent.com/asalber/manual-python/master/datos/colesterol.csv\")\n",
    "\n",
    "# Realizar operaciones con las columnas \"altura\" y \"sexo\"\n",
    "print(df['altura']*100)  # Multiplicar la columna \"altura\" por 100 y mostrar el resultado\n",
    "print(df['sexo']=='M')   # Comprobar si los valores de la columna \"sexo\" son iguales a \"M\" y mostrar el resultado\n",
    "\n"
   ]
  },
  {
   "cell_type": "code",
   "execution_count": 25,
   "metadata": {},
   "outputs": [
    {
     "name": "stdout",
     "output_type": "stream",
     "text": [
      "0     0.582216\n",
      "1     0.548121\n",
      "2     0.593327\n",
      "3     0.530628\n",
      "4     0.457425\n",
      "5     0.553885\n",
      "6     0.542324\n",
      "7     0.506818\n",
      "8     0.662688\n",
      "9     0.615186\n",
      "10    0.482426\n",
      "11    0.625938\n",
      "12    0.683097\n",
      "13    0.570980\n",
      "Name: altura, dtype: float64\n"
     ]
    }
   ],
   "source": [
    "# Aplicar funciones a columnas\n",
    "# Importar la biblioteca pandas\n",
    "from math import log\n",
    "\n",
    "# Leer el archivo CSV desde la URL especificada\n",
    "df = pd.read_csv(\"https://raw.githubusercontent.com/asalber/manual-python/master/datos/colesterol.csv\")\n",
    "\n",
    "# Aplicar la función logaritmo a la columna \"altura\"\n",
    "print(df[\"altura\"].apply(log))\n",
    "\n"
   ]
  },
  {
   "cell_type": "code",
   "execution_count": 26,
   "metadata": {},
   "outputs": [
    {
     "name": "stdout",
     "output_type": "stream",
     "text": [
      "            edad        peso     altura  colesterol\n",
      "count  14.000000   13.000000  14.000000   13.000000\n",
      "mean   38.214286   70.923077   1.768571  220.230769\n",
      "std    15.621379   16.126901   0.115016   39.847948\n",
      "min    18.000000   51.000000   1.580000  148.000000\n",
      "25%    24.750000   61.000000   1.705000  194.000000\n",
      "50%    35.000000   65.000000   1.755000  210.000000\n",
      "75%    49.750000   78.000000   1.840000  249.000000\n",
      "max    68.000000  109.000000   1.980000  280.000000\n",
      "                              nombre sexo\n",
      "count                             14   14\n",
      "unique                            14    2\n",
      "top     José Luis Martínez Izquierdo    H\n",
      "freq                               1    8\n"
     ]
    }
   ],
   "source": [
    "# Resumen descriptivo de un DataFrame\n",
    "\n",
    "# Leer el archivo CSV desde la URL especificada\n",
    "df = pd.read_csv(\"https://raw.githubusercontent.com/asalber/manual-python/master/datos/colesterol.csv\")\n",
    "\n",
    "# Realizar un resumen descriptivo del DataFrame\n",
    "print(df.describe())\n",
    "\n",
    "# Realizar un resumen descriptivo del DataFrame solo para columnas de tipo objeto\n",
    "print(df.describe(include=\"object\"))\n",
    "\n"
   ]
  },
  {
   "cell_type": "code",
   "execution_count": 27,
   "metadata": {},
   "outputs": [
    {
     "name": "stdout",
     "output_type": "stream",
     "text": [
      "                             nombre sexo   peso  altura  colesterol\n",
      "0      José Luis Martínez Izquierdo    H   85.0    1.79       182.0\n",
      "1                    Rosa Díaz Díaz    M   65.0    1.73       232.0\n",
      "2             Javier García Sánchez    H    NaN    1.81       191.0\n",
      "3               Carmen López Pinzón    M   65.0    1.70       200.0\n",
      "4              Marisa López Collado    M   51.0    1.58       148.0\n",
      "5                 Antonio Ruiz Cruz    H   66.0    1.74       249.0\n",
      "6           Antonio Fernández Ocaña    H   62.0    1.72       276.0\n",
      "7             Pilar Martín González    M   60.0    1.66         NaN\n",
      "8              Pedro Gálvez Tenorio    H   90.0    1.94       241.0\n",
      "9           Santiago Reillo Manzano    H   75.0    1.85       280.0\n",
      "10            Macarena Álvarez Luna    M   55.0    1.62       262.0\n",
      "11       José María de la Guía Sanz    H   78.0    1.87       198.0\n",
      "12  Miguel Angel Cuadrado Gutiérrez    H  109.0    1.98       210.0\n",
      "13            Carolina Rubio Moreno    M   61.0    1.77       194.0\n",
      "0     18\n",
      "1     32\n",
      "2     24\n",
      "3     35\n",
      "4     46\n",
      "5     68\n",
      "6     51\n",
      "7     22\n",
      "8     35\n",
      "9     46\n",
      "10    53\n",
      "11    58\n",
      "12    27\n",
      "13    20\n",
      "Name: edad, dtype: int64\n"
     ]
    }
   ],
   "source": [
    "# Eliminar columnas de un DataFrame\n",
    "\n",
    "# Leer el archivo CSV desde la URL especificada\n",
    "df = pd.read_csv(\"https://raw.githubusercontent.com/asalber/manual-python/master/datos/colesterol.csv\")\n",
    "\n",
    "# Eliminar la columna 'edad' del DataFrame y asignarla a una variable separada\n",
    "edad = df.pop('edad')\n",
    "\n",
    "# Imprimir el DataFrame resultante después de eliminar la columna\n",
    "print(df)\n",
    "\n",
    "# Imprimir la columna 'edad' que fue separada\n",
    "print(edad)\n"
   ]
  },
  {
   "cell_type": "code",
   "execution_count": 28,
   "metadata": {},
   "outputs": [
    {
     "name": "stdout",
     "output_type": "stream",
     "text": [
      "                             nombre  edad sexo   peso  altura  colesterol\n",
      "10            Macarena Álvarez Luna    53    M   55.0    1.62       262.0\n",
      "11       José María de la Guía Sanz    58    H   78.0    1.87       198.0\n",
      "12  Miguel Angel Cuadrado Gutiérrez    27    H  109.0    1.98       210.0\n",
      "13            Carolina Rubio Moreno    20    M   61.0    1.77       194.0\n",
      "14                     Carlos Rivas    28    H   89.0    1.78       245.0\n"
     ]
    }
   ],
   "source": [
    "# Agrega una nueva fila y muestra las últimas filas del DataFrame resultante.\n",
    "# Cargar el archivo CSV\n",
    "df = pd.read_csv(\"https://raw.githubusercontent.com/asalber/manual-python/master/datos/colesterol.csv\")\n",
    "\n",
    "# Crear una nueva fila como un DataFrame\n",
    "new_row = pd.DataFrame([[\"Carlos Rivas\", 28, \"H\", 89.0, 1.78, 245.0]], columns=df.columns)\n",
    "\n",
    "# Concatenar el DataFrame original con la nueva fila\n",
    "df = pd.concat([df, new_row], ignore_index=True)\n",
    "\n",
    "# Imprimir las últimas filas del DataFrame\n",
    "print(df.tail())"
   ]
  },
  {
   "cell_type": "code",
   "execution_count": 29,
   "metadata": {},
   "outputs": [
    {
     "name": "stdout",
     "output_type": "stream",
     "text": [
      "                             nombre  edad sexo   peso  altura  colesterol\n",
      "0      José Luis Martínez Izquierdo    18    H   85.0    1.79       182.0\n",
      "2             Javier García Sánchez    24    H    NaN    1.81       191.0\n",
      "4              Marisa López Collado    46    M   51.0    1.58       148.0\n",
      "5                 Antonio Ruiz Cruz    68    H   66.0    1.74       249.0\n",
      "6           Antonio Fernández Ocaña    51    H   62.0    1.72       276.0\n",
      "7             Pilar Martín González    22    M   60.0    1.66         NaN\n",
      "8              Pedro Gálvez Tenorio    35    H   90.0    1.94       241.0\n",
      "9           Santiago Reillo Manzano    46    H   75.0    1.85       280.0\n",
      "10            Macarena Álvarez Luna    53    M   55.0    1.62       262.0\n",
      "11       José María de la Guía Sanz    58    H   78.0    1.87       198.0\n",
      "12  Miguel Angel Cuadrado Gutiérrez    27    H  109.0    1.98       210.0\n",
      "13            Carolina Rubio Moreno    20    M   61.0    1.77       194.0\n"
     ]
    }
   ],
   "source": [
    "# Eliminar filas de un DataFrame\n",
    "\n",
    "# Leer el archivo CSV desde la URL especificada\n",
    "df = pd.read_csv(\"https://raw.githubusercontent.com/asalber/manual-python/master/datos/colesterol.csv\")\n",
    "\n",
    "# Eliminar las filas con índices 1 y 3 del DataFrame\n",
    "df = df.drop([1, 3])\n",
    "\n",
    "# Imprimir el DataFrame resultante después de eliminar las filas\n",
    "print(df)\n"
   ]
  },
  {
   "cell_type": "code",
   "execution_count": 30,
   "metadata": {},
   "outputs": [
    {
     "name": "stdout",
     "output_type": "stream",
     "text": [
      "                    nombre  edad sexo  peso  altura  colesterol\n",
      "6  Antonio Fernández Ocaña    51    H  62.0    1.72       276.0\n",
      "9  Santiago Reillo Manzano    46    H  75.0    1.85       280.0\n"
     ]
    }
   ],
   "source": [
    "# Filtrado de las filas de un DataFrame\n",
    "\n",
    "# Leer el archivo CSV desde la URL especificada\n",
    "df = pd.read_csv(\"https://raw.githubusercontent.com/asalber/manual-python/master/datos/colesterol.csv\")\n",
    "\n",
    "# Filtrar las filas del DataFrame donde el valor de \"sexo\" sea \"H\" y el valor de \"colesterol\" sea mayor a 260\n",
    "filtro = (df[\"sexo\"] == \"H\") & (df[\"colesterol\"] > 260)\n",
    "resultado = df[filtro]\n",
    "\n",
    "# Imprimir el DataFrame resultante después de aplicar el filtro\n",
    "print(resultado)\n"
   ]
  },
  {
   "cell_type": "code",
   "execution_count": 31,
   "metadata": {},
   "outputs": [
    {
     "name": "stdout",
     "output_type": "stream",
     "text": [
      "                             nombre  edad sexo   peso  altura  colesterol\n",
      "4              Marisa López Collado    46    M   51.0    1.58       148.0\n",
      "0      José Luis Martínez Izquierdo    18    H   85.0    1.79       182.0\n",
      "2             Javier García Sánchez    24    H    NaN    1.81       191.0\n",
      "13            Carolina Rubio Moreno    20    M   61.0    1.77       194.0\n",
      "11       José María de la Guía Sanz    58    H   78.0    1.87       198.0\n",
      "3               Carmen López Pinzón    35    M   65.0    1.70       200.0\n",
      "12  Miguel Angel Cuadrado Gutiérrez    27    H  109.0    1.98       210.0\n",
      "1                    Rosa Díaz Díaz    32    M   65.0    1.73       232.0\n",
      "8              Pedro Gálvez Tenorio    35    H   90.0    1.94       241.0\n",
      "5                 Antonio Ruiz Cruz    68    H   66.0    1.74       249.0\n",
      "10            Macarena Álvarez Luna    53    M   55.0    1.62       262.0\n",
      "6           Antonio Fernández Ocaña    51    H   62.0    1.72       276.0\n",
      "9           Santiago Reillo Manzano    46    H   75.0    1.85       280.0\n",
      "7             Pilar Martín González    22    M   60.0    1.66         NaN\n"
     ]
    }
   ],
   "source": [
    "# Ordenar un DataFrame\n",
    "\n",
    "# Leer el archivo CSV desde la URL especificada\n",
    "df = pd.read_csv(\"https://raw.githubusercontent.com/asalber/manual-python/master/datos/colesterol.csv\")\n",
    "\n",
    "# Ordenar el DataFrame en función de la columna \"colesterol\"\n",
    "resultado = df.sort_values(\"colesterol\")\n",
    "\n",
    "# Imprimir el DataFrame resultante después de ordenarlo\n",
    "print(resultado)\n"
   ]
  },
  {
   "cell_type": "code",
   "execution_count": 32,
   "metadata": {},
   "outputs": [
    {
     "name": "stdout",
     "output_type": "stream",
     "text": [
      "                             nombre  edad sexo   peso  altura  colesterol\n",
      "0      José Luis Martínez Izquierdo    18    H   85.0    1.79       182.0\n",
      "1                    Rosa Díaz Díaz    32    M   65.0    1.73       232.0\n",
      "3               Carmen López Pinzón    35    M   65.0    1.70       200.0\n",
      "4              Marisa López Collado    46    M   51.0    1.58       148.0\n",
      "5                 Antonio Ruiz Cruz    68    H   66.0    1.74       249.0\n",
      "6           Antonio Fernández Ocaña    51    H   62.0    1.72       276.0\n",
      "8              Pedro Gálvez Tenorio    35    H   90.0    1.94       241.0\n",
      "9           Santiago Reillo Manzano    46    H   75.0    1.85       280.0\n",
      "10            Macarena Álvarez Luna    53    M   55.0    1.62       262.0\n",
      "11       José María de la Guía Sanz    58    H   78.0    1.87       198.0\n",
      "12  Miguel Angel Cuadrado Gutiérrez    27    H  109.0    1.98       210.0\n",
      "13            Carolina Rubio Moreno    20    M   61.0    1.77       194.0\n"
     ]
    }
   ],
   "source": [
    "# Eliminar las filas con datos desconocidos en un DataFrame\n",
    "\n",
    "# Leer el archivo CSV desde la URL especificada\n",
    "df = pd.read_csv(\"https://raw.githubusercontent.com/asalber/manual-python/master/datos/colesterol.csv\")\n",
    "\n",
    "# Eliminar las filas con datos desconocidos en el DataFrame\n",
    "resultado = df.dropna()\n",
    "\n",
    "# Imprimir el DataFrame resultante después de eliminar las filas\n",
    "print(resultado)\n"
   ]
  },
  {
   "cell_type": "code",
   "execution_count": 33,
   "metadata": {},
   "outputs": [
    {
     "name": "stdout",
     "output_type": "stream",
     "text": [
      "{'H': [0, 2, 5, 6, 8, 9, 11, 12], 'M': [1, 3, 4, 7, 10, 13]}\n",
      "{('H', 18): [0], ('H', 24): [2], ('H', 27): [12], ('H', 35): [8], ('H', 46): [9], ('H', 51): [6], ('H', 58): [11], ('H', 68): [5], ('M', 20): [13], ('M', 22): [7], ('M', 32): [1], ('M', 35): [3], ('M', 46): [4], ('M', 53): [10]}\n"
     ]
    }
   ],
   "source": [
    "# Agrupación de un DataFrame\n",
    "\n",
    "# Leer el archivo CSV desde la URL especificada\n",
    "df = pd.read_csv(\"https://raw.githubusercontent.com/asalber/manual-python/master/datos/colesterol.csv\")\n",
    "\n",
    "# Agrupar las filas según la columna \"sexo\"\n",
    "grupos_sexo = df.groupby(\"sexo\").groups\n",
    "\n",
    "# Imprimir los grupos resultantes según la columna \"sexo\"\n",
    "print(grupos_sexo)\n",
    "\n",
    "# Agrupar las filas según las columnas \"sexo\" y \"edad\"\n",
    "grupos_sexo_edad = df.groupby([\"sexo\", \"edad\"]).groups\n",
    "\n",
    "# Imprimir los grupos resultantes según las columnas \"sexo\" y \"edad\"\n",
    "print(grupos_sexo_edad)\n"
   ]
  },
  {
   "cell_type": "code",
   "execution_count": 34,
   "metadata": {},
   "outputs": [
    {
     "name": "stdout",
     "output_type": "stream",
     "text": [
      "                   nombre  edad sexo  peso  altura  colesterol\n",
      "1          Rosa Díaz Díaz    32    M  65.0    1.73       232.0\n",
      "3     Carmen López Pinzón    35    M  65.0    1.70       200.0\n",
      "4    Marisa López Collado    46    M  51.0    1.58       148.0\n",
      "7   Pilar Martín González    22    M  60.0    1.66         NaN\n",
      "10  Macarena Álvarez Luna    53    M  55.0    1.62       262.0\n",
      "13  Carolina Rubio Moreno    20    M  61.0    1.77       194.0\n"
     ]
    }
   ],
   "source": [
    "# Leer el archivo CSV desde la URL especificada\n",
    "df = pd.read_csv(\"https://raw.githubusercontent.com/asalber/manual-python/master/datos/colesterol.csv\")\n",
    "\n",
    "# Agrupar las filas según la columna \"sexo\" y obtener el subconjunto del grupo \"M\"\n",
    "grupo_m = df.groupby(\"sexo\").get_group(\"M\")\n",
    "\n",
    "# Imprimir el subconjunto del grupo \"M\"\n",
    "print(grupo_m)\n"
   ]
  },
  {
   "cell_type": "code",
   "execution_count": 35,
   "metadata": {},
   "outputs": [
    {
     "name": "stdout",
     "output_type": "stream",
     "text": [
      "           edad       peso    altura  colesterol\n",
      "sexo                                            \n",
      "H     40.875000  80.714286  1.837500     228.375\n",
      "M     34.666667  59.500000  1.676667     207.200\n"
     ]
    }
   ],
   "source": [
    "# Excluye la columna \"nombre\" del DataFrame, calcula la media por grupos basada en la columna \"sexo\" y muestra el resultado\n",
    "import numpy as np\n",
    "\n",
    "# Cargar el archivo CSV\n",
    "df = pd.read_csv(\"https://raw.githubusercontent.com/asalber/manual-python/master/datos/colesterol.csv\")\n",
    "\n",
    "# Excluir la columna \"nombre\"\n",
    "columnas_numericas = [col for col in df.columns if col != \"nombre\"]\n",
    "df_numericas = df[columnas_numericas]\n",
    "\n",
    "# Calcular la media por grupos\n",
    "media_por_grupo = df_numericas.groupby(\"sexo\").mean()\n",
    "\n",
    "# Imprimir el resultado\n",
    "print(media_por_grupo)"
   ]
  },
  {
   "cell_type": "code",
   "execution_count": 36,
   "metadata": {},
   "outputs": [
    {
     "name": "stdout",
     "output_type": "stream",
     "text": [
      "   nombre  edad    asignatura  nota\n",
      "0   María    18   Matemáticas   8.5\n",
      "1    Luis    22   Matemáticas   7.0\n",
      "2  Carmen    20   Matemáticas   3.5\n",
      "3   María    18      Economía   8.0\n",
      "4    Luis    22      Economía   6.5\n",
      "5  Carmen    20      Economía   5.0\n",
      "6   María    18  Programación   6.5\n",
      "7    Luis    22  Programación   4.0\n",
      "8  Carmen    20  Programación   9.0\n"
     ]
    }
   ],
   "source": [
    "# Reestructurar un DataFrame\n",
    "\n",
    "# Definir los datos como un diccionario\n",
    "datos = {\"nombre\": [\"María\", \"Luis\", \"Carmen\"],\n",
    "         \"edad\": [18, 22, 20],\n",
    "         \"Matemáticas\": [8.5, 7, 3.5],\n",
    "         \"Economía\": [8, 6.5, 5],\n",
    "         \"Programación\": [6.5, 4, 9]}\n",
    "\n",
    "# Crear el DataFrame a partir de los datos\n",
    "df = pd.DataFrame(datos)\n",
    "\n",
    "# Reestructurar el DataFrame utilizando la función melt()\n",
    "df1 = df.melt(id_vars=[\"nombre\", \"edad\"], var_name=\"asignatura\", value_name=\"nota\")\n",
    "\n",
    "# Imprimir el DataFrame reestructurado\n",
    "print(df1)\n"
   ]
  },
  {
   "cell_type": "code",
   "execution_count": 37,
   "metadata": {},
   "outputs": [
    {
     "name": "stdout",
     "output_type": "stream",
     "text": [
      "asignatura  Economía  Matemáticas  Programación\n",
      "nombre                                         \n",
      "Carmen           5.0          3.5           9.0\n",
      "Luis             6.5          7.0           4.0\n",
      "María            8.0          8.5           6.5\n"
     ]
    }
   ],
   "source": [
    "# Convertir un DataFrame a formato ancho\n",
    "\n",
    "# Convertir el DataFrame a formato ancho utilizando pivot()\n",
    "df_wide = df1.pivot(index=\"nombre\", columns=\"asignatura\", values=\"nota\")\n",
    "\n",
    "# Imprimir el DataFrame en formato ancho\n",
    "print(df_wide)\n",
    "\n"
   ]
  },
  {
   "attachments": {},
   "cell_type": "markdown",
   "metadata": {},
   "source": [
    "## Tarea\n",
    "\n",
    "Eres un analista de datos en una empresa de comercio electrónico y se te ha proporcionado un archivo CSV llamado “datos_ventas.csv” que contiene datos de ventas de diferentes productos. Tu objetivo es realizar análisis básicos de los datos utilizando la biblioteca Pandas:\n",
    "\n",
    "- Cargar los datos desde el archivo CSV y almacenarlos en un DataFrame llamado ventas.\n",
    "- Mostrar las primeras 5 filas del DataFrame para revisar la estructura y los tipos de datos de las columnas.\n",
    "- Calcular el total de ventas realizadas en cada categoría de productos y mostrar los resultados.\n",
    "- Calcular la cantidad promedio de productos vendidos por transacción y mostrar el resultado.\n",
    "- Encontrar el producto más vendido y mostrar su nombre y la cantidad total vendida.\n",
    "- Calcular el promedio de precios de venta para cada producto y mostrar los resultados."
   ]
  },
  {
   "cell_type": "markdown",
   "metadata": {},
   "source": [
    "### Datos sintéticos\n",
    "\n",
    "Primero se deben generar datos sintéticos para este ejercicio por si no se tienen."
   ]
  },
  {
   "cell_type": "markdown",
   "metadata": {},
   "source": [
    "Se importan las librerías adecuadas"
   ]
  },
  {
   "cell_type": "code",
   "execution_count": 38,
   "metadata": {},
   "outputs": [],
   "source": [
    "import pandas as pd\n",
    "import random\n",
    "from datetime import datetime, timedelta"
   ]
  },
  {
   "cell_type": "code",
   "execution_count": 39,
   "metadata": {},
   "outputs": [],
   "source": [
    "# Lista de productos y categorías\n",
    "productos = [\"Producto A\", \"Producto B\", \"Producto C\"]\n",
    "categorias = [\"Categoria 1\", \"Categoria 2\"]"
   ]
  },
  {
   "cell_type": "code",
   "execution_count": 40,
   "metadata": {},
   "outputs": [],
   "source": [
    "# Generar datos aleatorios\n",
    "datos = []\n",
    "fecha_actual = datetime.now().date()\n",
    "for _ in range(100):\n",
    "\tproducto = random.choice(productos)\n",
    "\tcategoria = random.choice(categorias)\n",
    "\tfecha = fecha_actual - timedelta(days=random.randint(0, 365))\n",
    "\tcantidad = random.randint(1, 20)\n",
    "\tprecio = round(random.uniform(10, 50), 2)\n",
    "\tdatos.append([producto, categoria, fecha, cantidad, precio])"
   ]
  },
  {
   "cell_type": "code",
   "execution_count": 41,
   "metadata": {},
   "outputs": [],
   "source": [
    "# Crear DataFrame y guardar en archivo CSV\n",
    "df = pd.DataFrame(datos, columns=[\"Producto\", \"Categoria\", \"Fecha\", \n",
    "\"Cantidad\", \"Precio\"])\n",
    "df.to_csv(\"datos_ventas.csv\", index=False)"
   ]
  },
  {
   "cell_type": "markdown",
   "metadata": {},
   "source": [
    "### Solución de la tarea"
   ]
  },
  {
   "cell_type": "code",
   "execution_count": 42,
   "metadata": {},
   "outputs": [
    {
     "name": "stdout",
     "output_type": "stream",
     "text": [
      "     producto    categoria      fecha  cantidad  precio  venta\n",
      "0  Producto B  Categoria 1   5/2/2023        16   37.00    6.0\n",
      "1  Producto A  Categoria 2  24/8/2022         5   30.24    7.0\n",
      "2  Producto A  Categoria 2   7/5/2023         3   23.29    6.0\n",
      "3  Producto C  Categoria 1   7/1/2023        13   28.30    5.0\n",
      "4  Producto A  Categoria 1  31/5/2023        10   34.89    7.0\n",
      "Total de ventas por categoría:\n",
      " categoria\n",
      "Categoria 1    1355.0\n",
      "Categoria 2    1974.0\n",
      "Name: venta, dtype: float64\n",
      "Cantidad promedio de productos vendidos por transacción: 9.57\n",
      "Producto más vendido: Producto B\n",
      "Cantidad total vendida: 371\n",
      "Promedio de precios de venta por producto:\n",
      " producto\n",
      "Producto A    27.840000\n",
      "Producto B    29.250857\n",
      "Producto C    29.892963\n",
      "Name: precio, dtype: float64\n"
     ]
    }
   ],
   "source": [
    "import pandas as pd\n",
    "\n",
    "# a) Cargar los datos desde el archivo CSV y almacenarlos en un DataFrame llamado ventas.\n",
    "ventas = pd.read_csv(\"06.-datos_ventas.csv\", sep=\";\")\n",
    "\n",
    "# b) Mostrar las primeras 5 filas del DataFrame para revisar la estructura y los tipos de datos de las columnas.\n",
    "print(ventas.head())\n",
    "\n",
    "# c) Calcular el total de ventas realizadas en cada categoría de productos y mostrar los resultados.\n",
    "total_ventas_por_categoria = ventas.groupby('categoria')['venta'].sum()\n",
    "print(\"Total de ventas por categoría:\\n\", total_ventas_por_categoria)\n",
    "\n",
    "# d) Calcular la cantidad promedio de productos vendidos por transacción y mostrar el resultado.\n",
    "promedio_productos_por_transaccion = ventas['cantidad'].mean()\n",
    "print(\"Cantidad promedio de productos vendidos por transacción:\", promedio_productos_por_transaccion)\n",
    "\n",
    "# e) Encontrar el producto más vendido y mostrar su nombre y la cantidad total vendida.\n",
    "producto_mas_vendido = ventas.groupby('producto')['cantidad'].sum().idxmax()\n",
    "cantidad_total_vendida = ventas.groupby('producto')['cantidad'].sum().max()\n",
    "print(\"Producto más vendido:\", producto_mas_vendido)\n",
    "print(\"Cantidad total vendida:\", cantidad_total_vendida)\n",
    "\n",
    "# f) Calcular el promedio de precios de venta para cada producto y mostrar los resultados.\n",
    "promedio_precio_venta_por_producto = ventas.groupby('producto')['precio'].mean()\n",
    "print(\"Promedio de precios de venta por producto:\\n\", promedio_precio_venta_por_producto)"
   ]
  },
  {
   "cell_type": "code",
   "execution_count": 43,
   "metadata": {},
   "outputs": [
    {
     "data": {
      "text/plain": [
       "categoria\n",
       "Categoria 1    1355.0\n",
       "Categoria 2    1974.0\n",
       "Name: venta, dtype: float64"
      ]
     },
     "execution_count": 43,
     "metadata": {},
     "output_type": "execute_result"
    }
   ],
   "source": [
    "total_ventas_por_categoria"
   ]
  }
 ],
 "metadata": {
  "kernelspec": {
   "display_name": ".venv",
   "language": "python",
   "name": "python3"
  },
  "language_info": {
   "codemirror_mode": {
    "name": "ipython",
    "version": 3
   },
   "file_extension": ".py",
   "mimetype": "text/x-python",
   "name": "python",
   "nbconvert_exporter": "python",
   "pygments_lexer": "ipython3",
   "version": "3.11.4"
  },
  "orig_nbformat": 4
 },
 "nbformat": 4,
 "nbformat_minor": 2
}
