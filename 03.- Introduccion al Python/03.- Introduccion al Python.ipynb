{
 "cells": [
  {
   "attachments": {},
   "cell_type": "markdown",
   "metadata": {},
   "source": [
    "# Tarea Actividad 3: Introducción a Python\n",
    "\n",
    "Hacer un script que lea una serie de ```n``` números desde el teclado y:\n",
    "- Calcule el promedio de la serie.\n",
    "- Devuelva el menor número entrado de acuerdo con siguiente procedimiento:\n",
    "    - Si el número entrado es menor que el menor global, actualizar el menor global.\n",
    "- Devuelva el mayor número entrado de acuerdo con el siguiente procedimiento:\n",
    "  - Si el número entrado es mayor que el mayor global, entonces actualizar el mayor global.\n"
   ]
  },
  {
   "cell_type": "code",
   "execution_count": 1,
   "metadata": {},
   "outputs": [
    {
     "name": "stdout",
     "output_type": "stream",
     "text": [
      "Promedio: 5.0\n",
      "Menor número: 1.0\n",
      "Mayor número: 9.0\n"
     ]
    }
   ],
   "source": [
    "def obtener_estadisticas():\n",
    "    \"\"\"\n",
    "    Función para obtener estadísticas de una lista de números ingresados por el usuario.\n",
    "\n",
    "    Returns:\n",
    "    promedio (float): Promedio de los números ingresados.\n",
    "    menor_global (float): Menor número ingresado.\n",
    "    mayor_global (float): Mayor número ingresado.\n",
    "    \"\"\"\n",
    "\n",
    "    numeros = []\n",
    "    menor_global = float('inf')  # Inicializar el menor_global con un valor infinito positivo\n",
    "    mayor_global = float('-inf')  # Inicializar el mayor_global con un valor infinito negativo\n",
    "\n",
    "    while True:\n",
    "        entrada = input(\"Ingresa un número (o 'q' para terminar): \")\n",
    "        if entrada.lower() == 'q':\n",
    "            break\n",
    "\n",
    "        numero = float(entrada)\n",
    "        numeros.append(numero)\n",
    "\n",
    "        if numero < menor_global:\n",
    "            menor_global = numero\n",
    "\n",
    "        if numero > mayor_global:\n",
    "            mayor_global = numero\n",
    "\n",
    "    promedio = sum(numeros) / len(numeros)\n",
    "\n",
    "    return promedio, menor_global, mayor_global\n",
    "\n",
    "# Llamada a la función obtener_estadisticas y asignación de los resultados a variables\n",
    "promedio, menor, mayor = obtener_estadisticas()\n",
    "\n",
    "# Impresión de los resultados\n",
    "print(\"Promedio:\", promedio)\n",
    "print(\"Menor número:\", menor)\n",
    "print(\"Mayor número:\", mayor)\n"
   ]
  }
 ],
 "metadata": {
  "kernelspec": {
   "display_name": ".venv",
   "language": "python",
   "name": "python3"
  },
  "language_info": {
   "codemirror_mode": {
    "name": "ipython",
    "version": 3
   },
   "file_extension": ".py",
   "mimetype": "text/x-python",
   "name": "python",
   "nbconvert_exporter": "python",
   "pygments_lexer": "ipython3",
   "version": "3.11.4"
  },
  "orig_nbformat": 4
 },
 "nbformat": 4,
 "nbformat_minor": 2
}
