{
 "cells": [
  {
   "attachments": {},
   "cell_type": "markdown",
   "metadata": {},
   "source": [
    "# Actividad 05: Python: estructuras de datos con `NumPy` y manejo de archivos"
   ]
  },
  {
   "attachments": {},
   "cell_type": "markdown",
   "metadata": {},
   "source": [
    "## Tarea\n",
    "\n",
    "Eres el gerente de un parque acuático y deseas analizar la altura de las olas en diferentes puntos del parque. Para ello, los estudiantes deben utilizar la biblioteca `NumPy` para realizar los siguientes cálculos:\n",
    "\n",
    "  - Cargar los datos de altura de las olas desde un archivo CSV llamado \"datos_olas.csv\". El archivo contiene las alturas de las olas en diferentes puntos del parque acuático en un formato de matriz de tamaño (número de puntos x número de días).\n",
    "  - Calcular la altura promedio de las olas en cada punto del parque acuático durante todos los días (promedio por filas).\n",
    "  - Calcular la altura máxima de las olas en cada punto del parque acuático durante todos los días (máximo por filas).\n",
    "  - Calcular la desviación estándar de la altura de las olas en cada punto del parque acuático durante todos los días (std por filas).\n",
    "  - Encontrar el punto del parque acuático con la altura promedio más alta y mostrar su índice (número de punto) y la altura promedio correspondiente (del promedio por filas, encontrar el mayor).\n",
    "  - Encontrar el día con la altura máxima de olas en todo el parque acuático y mostrar su índice (número de día) y la altura máxima correspondiente (promedio por columnas, y luego encontrar el mayor)\n",
    "  - Guardar los resultados en un archivo de texto llamado \"resultados_olas.txt\" con un formato adecuado.\n",
    "\n",
    "  Sugerencia: Puedes utilizar la función `numpy.loadtxt()` para cargar los datos desde el archivo CSV.\n"
   ]
  },
  {
   "attachments": {},
   "cell_type": "markdown",
   "metadata": {},
   "source": [
    "Primero hay que instalar la librería Numpy:"
   ]
  },
  {
   "cell_type": "code",
   "execution_count": 1,
   "metadata": {},
   "outputs": [
    {
     "name": "stdout",
     "output_type": "stream",
     "text": [
      "Requirement already satisfied: numpy in /Users/lazaro.bustio/Gits/ciencia_datos/.venv/lib/python3.11/site-packages (2.0.1)\n",
      "Note: you may need to restart the kernel to use updated packages.\n"
     ]
    }
   ],
   "source": [
    "%pip install numpy"
   ]
  },
  {
   "cell_type": "markdown",
   "metadata": {},
   "source": [
    "### Generador de datos\n",
    "\n",
    "Para el ejercicio se deben generar datos de mediciones de la alturas de las olas en diferentes partes de un parque acuático. Estos datos son sintéticos y se generarán con el siguiente código. **En caso de tener el archivo \"datos_olas.csv\" no es necesario generarlo**"
   ]
  },
  {
   "cell_type": "code",
   "execution_count": 2,
   "metadata": {},
   "outputs": [],
   "source": [
    "# Cargar las librerías de uso\n",
    "import csv\n",
    "import random\n",
    "from datetime import datetime, timedelta"
   ]
  },
  {
   "cell_type": "code",
   "execution_count": 3,
   "metadata": {},
   "outputs": [],
   "source": [
    "# Definir los puntos del parque acuático\n",
    "puntos = [\"A\", \"B\", \"C\", \"D\", \"E\"]"
   ]
  },
  {
   "cell_type": "code",
   "execution_count": 4,
   "metadata": {},
   "outputs": [],
   "source": [
    "# Generar fechas aleatorias en el rango del último año\n",
    "fecha_actual = datetime.now()\n",
    "fecha_inicio = fecha_actual - timedelta(days=365)\n",
    "fechas = [fecha_inicio + timedelta(days=random.randint(0, 365)) for _ in \n",
    "range(100)]"
   ]
  },
  {
   "cell_type": "code",
   "execution_count": 5,
   "metadata": {},
   "outputs": [],
   "source": [
    "# Generar alturas aleatorias entre 0 y 10\n",
    "# Esta sentencia en Python crea una lista llamada \"alturas\" que contiene 100 valores numéricos aleatorios. Cada valor se genera \n",
    "# utilizando la función \"random.uniform(0, 10)\". La función \"random.uniform(a, b)\" genera un número decimal aleatorio dentro del \n",
    "# rango especificado, que en este caso es de 0 a 10. Entonces, cada elemento de la lista \"alturas\" será un número aleatorio comprendido \n",
    "# entre 0 y 10. El fragmento \"for _ in range(100)\" indica que se va a repetir el proceso de generar un número aleatorio 100 veces. La \n",
    "# variable \"_\", utilizada en el bucle, se usa cuando no necesitamos realmente hacer uso del valor en cada iteración del bucle, y solo \n",
    "# queremos repetir la tarea una cantidad específica de veces. En resumen, la sentencia crea una lista llamada \"alturas\" que contiene 100 \n",
    "# valores numéricos aleatorios entre 0 y 10.\n",
    "alturas = [random.uniform(0, 10) for _ in range(100)]"
   ]
  },
  {
   "cell_type": "code",
   "execution_count": 6,
   "metadata": {},
   "outputs": [],
   "source": [
    "# Crear una lista de diccionarios con los datos\n",
    "datos = []\n",
    "for i in range(100):\n",
    "\tdato = {\n",
    "\t\t\"puntos\": random.choice(puntos),\n",
    "\t\t\"dia\": fechas[i].strftime(\"%Y-%m-%d\"),\n",
    "\t\t\"altura\": alturas[i]\n",
    "\t}\n",
    "\tdatos.append(dato)"
   ]
  },
  {
   "cell_type": "code",
   "execution_count": 7,
   "metadata": {},
   "outputs": [],
   "source": [
    "# Escribir los datos en el archivo CSV\n",
    "with open(\"datos_olas.csv\", mode=\"w\", newline=\"\") as archivo:\n",
    "\twriter = csv.DictWriter(archivo, fieldnames=[\"puntos\", \"dia\", \n",
    "\"altura\"])\n",
    "\twriter.writeheader()\n",
    "\twriter.writerows(datos)"
   ]
  },
  {
   "cell_type": "markdown",
   "metadata": {},
   "source": [
    "### Solución de la tarea"
   ]
  },
  {
   "cell_type": "markdown",
   "metadata": {},
   "source": [
    "Después de instalar las librerías adecuadas, se deben importar."
   ]
  },
  {
   "cell_type": "code",
   "execution_count": 8,
   "metadata": {},
   "outputs": [],
   "source": [
    "import numpy as np"
   ]
  },
  {
   "cell_type": "markdown",
   "metadata": {},
   "source": [
    "a) Cargar los datos de altura de las olas desde un archivo CSV llamado \"datos_olas.csv\". El archivo contiene las alturas de las olas en diferentes puntos del parque acuático en un formato de matriz de tamaño (número de puntos x número de días).\n",
    "\n",
    "**En caso de no tener el archivo, de debe generar de manera sintética empleando el código de la sección `Generador de datos`**."
   ]
  },
  {
   "cell_type": "code",
   "execution_count": null,
   "metadata": {},
   "outputs": [
    {
     "data": {
      "text/plain": [
       "array([[1.59762701, 1.93037873, 1.70552675, 1.58976637, 1.3473096 ,\n",
       "        1.79178823, 1.37517442],\n",
       "       [2.283546  , 2.42732552, 1.26688304, 2.08345008, 1.55778984,\n",
       "        1.63608912, 2.35119328],\n",
       "       [0.64207212, 0.6742586 , 0.54043679, 2.16523969, 2.0563135 ,\n",
       "        2.2400243 , 2.45723668],\n",
       "       [2.09831713, 1.42295872, 2.06105835, 0.73654885, 1.77984204,\n",
       "        0.78670657, 2.38933783],\n",
       "       [1.54369664, 1.32932388, 1.02911122, 2.04846738, 1.41230066,\n",
       "        1.6368679 , 0.5375796 ],\n",
       "       [1.73527099, 1.72419145, 1.73386799, 2.38749616, 1.8636406 ,\n",
       "        1.2190158 , 1.37406391],\n",
       "       [1.89526239, 0.62045094, 1.83353343, 1.84127574, 0.92076512,\n",
       "        0.7578526 , 1.1308567 ],\n",
       "       [1.22742154, 1.64039354, 1.37720303, 2.47674768, 0.70408962,\n",
       "        0.91775351, 0.82261904],\n",
       "       [1.80621665, 1.00658321, 1.43262155, 0.98885118, 0.81793917,\n",
       "        0.72075028, 1.81265918],\n",
       "       [0.7763659 , 0.89316472, 1.23745034, 2.14198646, 0.69420255,\n",
       "        2.17588981, 0.69219682]])"
      ]
     },
     "execution_count": 9,
     "metadata": {},
     "output_type": "execute_result"
    }
   ],
   "source": [
    "\n",
    "# Cargar los datos de altura de las olas desde el archivo CSV\n",
    "datos_olas = np.loadtxt(\"datos_olas.csv\", delimiter=\",\")\n",
    "datos_olas"
   ]
  },
  {
   "cell_type": "markdown",
   "metadata": {},
   "source": [
    "b)\tCalcular la altura promedio de las olas en cada punto del parque acuático durante todos los días."
   ]
  },
  {
   "cell_type": "code",
   "execution_count": 10,
   "metadata": {},
   "outputs": [
    {
     "name": "stdout",
     "output_type": "stream",
     "text": [
      "Altura promedio de las olas en cada punto del parque acuático durante todos los días\n",
      "Punto 0: Altura promedio = 1.6196530151532966\n",
      "Punto 1: Altura promedio = 1.9437538392374427\n",
      "Punto 2: Altura promedio = 1.5393688120906073\n",
      "Punto 3: Altura promedio = 1.6106813584031996\n",
      "Punto 4: Altura promedio = 1.3624781842288545\n",
      "Punto 5: Altura promedio = 1.719649556761226\n",
      "Punto 6: Altura promedio = 1.2857138463637827\n",
      "Punto 7: Altura promedio = 1.3094611364599735\n",
      "Punto 8: Altura promedio = 1.2265173163251966\n",
      "Punto 9: Altura promedio = 1.2301795156352555\n"
     ]
    }
   ],
   "source": [
    "# Calcular la altura promedio por punto (promedio por filas)\n",
    "altura_promedio_por_punto = np.mean(datos_olas, axis=1)\n",
    "\n",
    "# Imprimir los resultados\n",
    "print(\"Altura promedio de las olas en cada punto del parque acuático durante todos los días\")\n",
    "for i, altura_promedio in enumerate(altura_promedio_por_punto):\n",
    "    print(f\"Punto {i}: Altura promedio = {altura_promedio}\")"
   ]
  },
  {
   "cell_type": "markdown",
   "metadata": {},
   "source": [
    "c)\tCalcular la altura máxima de las olas en cada punto del parque acuático durante todos los días."
   ]
  },
  {
   "cell_type": "code",
   "execution_count": 11,
   "metadata": {},
   "outputs": [
    {
     "name": "stdout",
     "output_type": "stream",
     "text": [
      "Punto 0: Altura máxima = 1.930378732744839\n",
      "Punto 1: Altura máxima = 2.4273255210020586\n",
      "Punto 2: Altura máxima = 2.457236684465528\n",
      "Punto 3: Altura máxima = 2.389337834099168\n",
      "Punto 4: Altura máxima = 2.048467378868433\n",
      "Punto 5: Altura máxima = 2.3874961570292483\n",
      "Punto 6: Altura máxima = 1.8952623918545297\n",
      "Punto 7: Altura máxima = 2.4767476761184524\n",
      "Punto 8: Altura máxima = 1.8126591789305468\n",
      "Punto 9: Altura máxima = 2.175889814997608\n"
     ]
    }
   ],
   "source": [
    "# Calcular la altura máxima por punto (máximo por filas)\n",
    "altura_maxima_por_punto = np.max(datos_olas, axis=1)\n",
    "\n",
    "# Imprimir los resultados\n",
    "for i, altura_maxima in enumerate(altura_maxima_por_punto):\n",
    "    print(f\"Punto {i}: Altura máxima = {altura_maxima}\")"
   ]
  },
  {
   "cell_type": "markdown",
   "metadata": {},
   "source": [
    "d)\tCalcular la desviación estándar de la altura de las olas en cada punto del parque acuático durante todos los días."
   ]
  },
  {
   "cell_type": "code",
   "execution_count": 12,
   "metadata": {},
   "outputs": [
    {
     "name": "stdout",
     "output_type": "stream",
     "text": [
      "Punto 0: Desviación estándar = 0.19598628839899848\n",
      "Punto 1: Desviación estándar = 0.4203063658039136\n",
      "Punto 2: Desviación estándar = 0.8056734471128603\n",
      "Punto 3: Desviación estándar = 0.6040140958384346\n",
      "Punto 4: Desviación estándar = 0.44302268731033634\n",
      "Punto 5: Desviación estándar = 0.345849455622873\n",
      "Punto 6: Desviación estándar = 0.5152926048706639\n",
      "Punto 7: Desviación estándar = 0.5657256207462292\n",
      "Punto 8: Desviación estándar = 0.42252390554520414\n",
      "Punto 9: Desviación estándar = 0.612026516149403\n"
     ]
    }
   ],
   "source": [
    "# Calcular la desviación estándar por punto (desviación estándar por filas)\n",
    "desviacion_estandar_por_punto = np.std(datos_olas, axis=1)\n",
    "\n",
    "# Imprimir los resultados\n",
    "for i, desviacion_estandar in enumerate(desviacion_estandar_por_punto):\n",
    "    print(f\"Punto {i}: Desviación estándar = {desviacion_estandar}\")"
   ]
  },
  {
   "cell_type": "markdown",
   "metadata": {},
   "source": [
    "e)\tEncontrar el punto del parque acuático con la altura promedio más alta y mostrar su índice (número de punto) y la altura promedio correspondiente."
   ]
  },
  {
   "cell_type": "code",
   "execution_count": 13,
   "metadata": {},
   "outputs": [
    {
     "name": "stdout",
     "output_type": "stream",
     "text": [
      "Punto con altura promedio más alta:\n",
      "Índice: 1\n",
      "Altura promedio: 1.9437538392374427\n"
     ]
    }
   ],
   "source": [
    "# Calcular la altura promedio por punto (promedio por filas)\n",
    "altura_promedio_por_punto = np.mean(datos_olas, axis=1)\n",
    "\n",
    "# Encontrar el punto con la altura promedio más alta\n",
    "indice_punto_maximo = np.argmax(altura_promedio_por_punto)\n",
    "altura_promedio_maxima = altura_promedio_por_punto[indice_punto_maximo]\n",
    "\n",
    "# Imprimir los resultados\n",
    "print(f\"Punto con altura promedio más alta:\")\n",
    "print(f\"Índice: {indice_punto_maximo}\")\n",
    "print(f\"Altura promedio: {altura_promedio_maxima}\")"
   ]
  },
  {
   "cell_type": "markdown",
   "metadata": {},
   "source": [
    "f)\tEncontrar el día con la altura máxima de olas en todo el parque acuático y mostrar su índice (número de día) y la altura máxima correspondiente."
   ]
  },
  {
   "cell_type": "code",
   "execution_count": 14,
   "metadata": {},
   "outputs": [
    {
     "name": "stdout",
     "output_type": "stream",
     "text": [
      "Día con altura máxima de olas en todo el parque acuático:\n",
      "Índice: (np.int64(7), np.int64(3))\n",
      "Altura máxima: 2.4767476761184524\n"
     ]
    }
   ],
   "source": [
    "# Encontrar el día con la altura máxima de olas en todo el parque acuático\n",
    "indice_dia_maximo = np.unravel_index(np.argmax(datos_olas), datos_olas.shape)\n",
    "altura_maxima = datos_olas[indice_dia_maximo]\n",
    "\n",
    "# Imprimir los resultados\n",
    "print(f\"Día con altura máxima de olas en todo el parque acuático:\")\n",
    "print(f\"Índice: {indice_dia_maximo}\")\n",
    "print(f\"Altura máxima: {altura_maxima}\")"
   ]
  },
  {
   "cell_type": "markdown",
   "metadata": {},
   "source": [
    "g)\tGuardar los resultados en un archivo de texto llamado \"resultados_olas.txt\" con un formato adecuado."
   ]
  },
  {
   "cell_type": "code",
   "execution_count": 15,
   "metadata": {},
   "outputs": [
    {
     "name": "stdout",
     "output_type": "stream",
     "text": [
      "Los resultados se han guardado en el archivo resultados_olas.txt\n"
     ]
    }
   ],
   "source": [
    "# Guardar los resultados en un archivo de texto\n",
    "with open(\"resultados_olas.txt\", \"w\") as file:\n",
    "    file.write(\"Altura promedio por punto:\\n\")\n",
    "    for i, altura_promedio in enumerate(altura_promedio_por_punto):\n",
    "        file.write(f\"Punto {i}: Altura promedio = {altura_promedio}\\n\")\n",
    "\n",
    "    file.write(\"\\nAltura máxima por punto:\\n\")\n",
    "    for i, altura_maxima in enumerate(altura_maxima_por_punto):\n",
    "        file.write(f\"Punto {i}: Altura máxima = {altura_maxima}\\n\")\n",
    "\n",
    "    file.write(\"\\nDesviación estándar por punto:\\n\")\n",
    "    for i, desviacion_estandar in enumerate(desviacion_estandar_por_punto):\n",
    "        file.write(f\"Punto {i}: Desviación estándar = {desviacion_estandar}\\n\")\n",
    "\n",
    "    file.write(\"\\nPunto con altura promedio más alta:\\n\")\n",
    "    file.write(f\"Índice: {indice_punto_maximo}\\n\")\n",
    "    file.write(f\"Altura promedio: {altura_promedio_maxima}\\n\")\n",
    "\n",
    "    file.write(\"\\nDía con altura máxima en todo el parque acuático:\\n\")\n",
    "    file.write(f\"Índice: {indice_dia_maximo}\\n\")\n",
    "    file.write(f\"Altura máxima: {altura_maxima}\\n\")\n",
    "\n",
    "print(\"Los resultados se han guardado en el archivo resultados_olas.txt\")"
   ]
  }
 ],
 "metadata": {
  "kernelspec": {
   "display_name": ".venv",
   "language": "python",
   "name": "python3"
  },
  "language_info": {
   "codemirror_mode": {
    "name": "ipython",
    "version": 3
   },
   "file_extension": ".py",
   "mimetype": "text/x-python",
   "name": "python",
   "nbconvert_exporter": "python",
   "pygments_lexer": "ipython3",
   "version": "3.11.4"
  },
  "orig_nbformat": 4
 },
 "nbformat": 4,
 "nbformat_minor": 2
}
